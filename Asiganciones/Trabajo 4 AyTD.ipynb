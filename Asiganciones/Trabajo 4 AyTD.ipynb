{
 "cells": [
  {
   "cell_type": "markdown",
   "id": "a50e283a",
   "metadata": {},
   "source": [
    "<font color='#1b5583' size=7 align='center'><p style='text-align: center;'>**Cuarto cuaderno de Python**\\\n",
    "<font color=#19284C size=5>**Juan José Maldonado Portilla**\\\n",
    "<font color=#5DC1B9 size=5>**2170144**\n",
    "<font color=#aaf0d1  size=5>         **Universidad Industrial de Santander**"
   ]
  },
  {
   "cell_type": "code",
   "execution_count": 1,
   "id": "038a0f70",
   "metadata": {},
   "outputs": [],
   "source": [
    "import numpy as np\n",
    "import pandas as pd\n",
    "from sklearn.model_selection import cross_val_predict, KFold, StratifiedKFold, train_test_split, cross_validate, cross_val_score\n",
    "from sklearn import linear_model\n",
    "from sklearn.linear_model import LogisticRegression\n",
    "import matplotlib.pyplot as plt\n",
    "from sklearn.decomposition import PCA\n",
    "from sklearn.cross_decomposition import PLSRegression\n",
    "from sklearn.preprocessing import StandardScaler, Normalizer\n",
    "from sklearn import preprocessing\n",
    "from sklearn import model_selection\n",
    "from sklearn.metrics import explained_variance_score, mean_absolute_error, mean_squared_error, r2_score\n",
    "import scipy.io \n",
    "from scipy import stats \n",
    "from scipy.signal import savgol_filter\n",
    "import scipy as sio\n",
    "%matplotlib inline\n",
    "from matplotlib import style\n",
    "from sklearn import svm\n",
    "import sklearn.metrics as skm"
   ]
  },
  {
   "cell_type": "code",
   "execution_count": 2,
   "id": "319873d7",
   "metadata": {},
   "outputs": [
    {
     "data": {
      "text/html": [
       "<div>\n",
       "<style scoped>\n",
       "    .dataframe tbody tr th:only-of-type {\n",
       "        vertical-align: middle;\n",
       "    }\n",
       "\n",
       "    .dataframe tbody tr th {\n",
       "        vertical-align: top;\n",
       "    }\n",
       "\n",
       "    .dataframe thead th {\n",
       "        text-align: right;\n",
       "    }\n",
       "</style>\n",
       "<table border=\"1\" class=\"dataframe\">\n",
       "  <thead>\n",
       "    <tr style=\"text-align: right;\">\n",
       "      <th></th>\n",
       "      <th>1</th>\n",
       "      <th>3</th>\n",
       "      <th>5</th>\n",
       "    </tr>\n",
       "  </thead>\n",
       "  <tbody>\n",
       "    <tr>\n",
       "      <th>0</th>\n",
       "      <td>NaN</td>\n",
       "      <td>NaN</td>\n",
       "      <td>NaN</td>\n",
       "    </tr>\n",
       "    <tr>\n",
       "      <th>1</th>\n",
       "      <td>Absorbancia</td>\n",
       "      <td>Absorbancia</td>\n",
       "      <td>Absorbancia</td>\n",
       "    </tr>\n",
       "    <tr>\n",
       "      <th>2</th>\n",
       "      <td>0.002</td>\n",
       "      <td>0.002</td>\n",
       "      <td>0.002</td>\n",
       "    </tr>\n",
       "    <tr>\n",
       "      <th>3</th>\n",
       "      <td>0.1</td>\n",
       "      <td>0.09</td>\n",
       "      <td>0.089</td>\n",
       "    </tr>\n",
       "    <tr>\n",
       "      <th>4</th>\n",
       "      <td>0</td>\n",
       "      <td>0</td>\n",
       "      <td>-0.001</td>\n",
       "    </tr>\n",
       "    <tr>\n",
       "      <th>5</th>\n",
       "      <td>0.276</td>\n",
       "      <td>0.267</td>\n",
       "      <td>0.267</td>\n",
       "    </tr>\n",
       "    <tr>\n",
       "      <th>6</th>\n",
       "      <td>-0.001</td>\n",
       "      <td>-0.001</td>\n",
       "      <td>-0.002</td>\n",
       "    </tr>\n",
       "    <tr>\n",
       "      <th>7</th>\n",
       "      <td>0.484</td>\n",
       "      <td>0.482</td>\n",
       "      <td>0.483</td>\n",
       "    </tr>\n",
       "    <tr>\n",
       "      <th>8</th>\n",
       "      <td>-0.001</td>\n",
       "      <td>0.001</td>\n",
       "      <td>0.001</td>\n",
       "    </tr>\n",
       "    <tr>\n",
       "      <th>9</th>\n",
       "      <td>0.674</td>\n",
       "      <td>0.66</td>\n",
       "      <td>0.659</td>\n",
       "    </tr>\n",
       "    <tr>\n",
       "      <th>10</th>\n",
       "      <td>0.001</td>\n",
       "      <td>0.001</td>\n",
       "      <td>0</td>\n",
       "    </tr>\n",
       "    <tr>\n",
       "      <th>11</th>\n",
       "      <td>0.877</td>\n",
       "      <td>0.877</td>\n",
       "      <td>0.877</td>\n",
       "    </tr>\n",
       "    <tr>\n",
       "      <th>12</th>\n",
       "      <td>0.001</td>\n",
       "      <td>0.001</td>\n",
       "      <td>0.001</td>\n",
       "    </tr>\n",
       "    <tr>\n",
       "      <th>13</th>\n",
       "      <td>1.042</td>\n",
       "      <td>1.04</td>\n",
       "      <td>1.04</td>\n",
       "    </tr>\n",
       "    <tr>\n",
       "      <th>14</th>\n",
       "      <td>0.002</td>\n",
       "      <td>0.002</td>\n",
       "      <td>0.002</td>\n",
       "    </tr>\n",
       "    <tr>\n",
       "      <th>15</th>\n",
       "      <td>1.267</td>\n",
       "      <td>1.267</td>\n",
       "      <td>1.266</td>\n",
       "    </tr>\n",
       "    <tr>\n",
       "      <th>16</th>\n",
       "      <td>0.002</td>\n",
       "      <td>0.001</td>\n",
       "      <td>0</td>\n",
       "    </tr>\n",
       "    <tr>\n",
       "      <th>17</th>\n",
       "      <td>1.479</td>\n",
       "      <td>1.478</td>\n",
       "      <td>1.477</td>\n",
       "    </tr>\n",
       "    <tr>\n",
       "      <th>18</th>\n",
       "      <td>0.001</td>\n",
       "      <td>0.002</td>\n",
       "      <td>0.002</td>\n",
       "    </tr>\n",
       "    <tr>\n",
       "      <th>19</th>\n",
       "      <td>1.644</td>\n",
       "      <td>1.64</td>\n",
       "      <td>1.688</td>\n",
       "    </tr>\n",
       "  </tbody>\n",
       "</table>\n",
       "</div>"
      ],
      "text/plain": [
       "              1            3            5\n",
       "0           NaN          NaN          NaN\n",
       "1   Absorbancia  Absorbancia  Absorbancia\n",
       "2         0.002        0.002        0.002\n",
       "3           0.1         0.09        0.089\n",
       "4             0            0       -0.001\n",
       "5         0.276        0.267        0.267\n",
       "6        -0.001       -0.001       -0.002\n",
       "7         0.484        0.482        0.483\n",
       "8        -0.001        0.001        0.001\n",
       "9         0.674         0.66        0.659\n",
       "10        0.001        0.001            0\n",
       "11        0.877        0.877        0.877\n",
       "12        0.001        0.001        0.001\n",
       "13        1.042         1.04         1.04\n",
       "14        0.002        0.002        0.002\n",
       "15        1.267        1.267        1.266\n",
       "16        0.002        0.001            0\n",
       "17        1.479        1.478        1.477\n",
       "18        0.001        0.002        0.002\n",
       "19        1.644         1.64        1.688"
      ]
     },
     "execution_count": 2,
     "metadata": {},
     "output_type": "execute_result"
    }
   ],
   "source": [
    "azul= pd.read_excel('./Datos/Datos-azul-timol.xlsx', header=None, usecols=[1,3,5], nrows=20)\n",
    "conc= pd.read_excel('./Datos/Datos-azul-timol.xlsx', header=None, usecols=[6], nrows=20)\n",
    "azul"
   ]
  },
  {
   "cell_type": "code",
   "execution_count": 3,
   "id": "d81064a3",
   "metadata": {
    "scrolled": true
   },
   "outputs": [
    {
     "data": {
      "text/html": [
       "<div>\n",
       "<style scoped>\n",
       "    .dataframe tbody tr th:only-of-type {\n",
       "        vertical-align: middle;\n",
       "    }\n",
       "\n",
       "    .dataframe tbody tr th {\n",
       "        vertical-align: top;\n",
       "    }\n",
       "\n",
       "    .dataframe thead th {\n",
       "        text-align: right;\n",
       "    }\n",
       "</style>\n",
       "<table border=\"1\" class=\"dataframe\">\n",
       "  <thead>\n",
       "    <tr style=\"text-align: right;\">\n",
       "      <th></th>\n",
       "      <th>1</th>\n",
       "      <th>3</th>\n",
       "      <th>5</th>\n",
       "    </tr>\n",
       "  </thead>\n",
       "  <tbody>\n",
       "    <tr>\n",
       "      <th>2</th>\n",
       "      <td>0.002</td>\n",
       "      <td>0.002</td>\n",
       "      <td>0.002</td>\n",
       "    </tr>\n",
       "    <tr>\n",
       "      <th>3</th>\n",
       "      <td>0.1</td>\n",
       "      <td>0.09</td>\n",
       "      <td>0.089</td>\n",
       "    </tr>\n",
       "    <tr>\n",
       "      <th>5</th>\n",
       "      <td>0.276</td>\n",
       "      <td>0.267</td>\n",
       "      <td>0.267</td>\n",
       "    </tr>\n",
       "    <tr>\n",
       "      <th>7</th>\n",
       "      <td>0.484</td>\n",
       "      <td>0.482</td>\n",
       "      <td>0.483</td>\n",
       "    </tr>\n",
       "    <tr>\n",
       "      <th>9</th>\n",
       "      <td>0.674</td>\n",
       "      <td>0.66</td>\n",
       "      <td>0.659</td>\n",
       "    </tr>\n",
       "    <tr>\n",
       "      <th>11</th>\n",
       "      <td>0.877</td>\n",
       "      <td>0.877</td>\n",
       "      <td>0.877</td>\n",
       "    </tr>\n",
       "    <tr>\n",
       "      <th>13</th>\n",
       "      <td>1.042</td>\n",
       "      <td>1.04</td>\n",
       "      <td>1.04</td>\n",
       "    </tr>\n",
       "    <tr>\n",
       "      <th>15</th>\n",
       "      <td>1.267</td>\n",
       "      <td>1.267</td>\n",
       "      <td>1.266</td>\n",
       "    </tr>\n",
       "    <tr>\n",
       "      <th>17</th>\n",
       "      <td>1.479</td>\n",
       "      <td>1.478</td>\n",
       "      <td>1.477</td>\n",
       "    </tr>\n",
       "    <tr>\n",
       "      <th>19</th>\n",
       "      <td>1.644</td>\n",
       "      <td>1.64</td>\n",
       "      <td>1.688</td>\n",
       "    </tr>\n",
       "  </tbody>\n",
       "</table>\n",
       "</div>"
      ],
      "text/plain": [
       "        1      3      5\n",
       "2   0.002  0.002  0.002\n",
       "3     0.1   0.09  0.089\n",
       "5   0.276  0.267  0.267\n",
       "7   0.484  0.482  0.483\n",
       "9   0.674   0.66  0.659\n",
       "11  0.877  0.877  0.877\n",
       "13  1.042   1.04   1.04\n",
       "15  1.267  1.267  1.266\n",
       "17  1.479  1.478  1.477\n",
       "19  1.644   1.64  1.688"
      ]
     },
     "execution_count": 3,
     "metadata": {},
     "output_type": "execute_result"
    }
   ],
   "source": [
    "azul=azul.drop(azul.index[[0,1,4,6,8,10,12,14,16,18]])\n",
    "conc=conc.drop(conc.index[[0,1,4,6,8,10,12,14,16,18]])\n",
    "azul"
   ]
  },
  {
   "cell_type": "code",
   "execution_count": 4,
   "id": "5875ae1c-4929-4d6e-b5b7-d4a85e29e044",
   "metadata": {},
   "outputs": [
    {
     "data": {
      "text/plain": [
       "2     0.000000e+00\n",
       "3     1.489966e-02\n",
       "5     1.272792e-02\n",
       "7     2.449490e-03\n",
       "9     2.054264e-02\n",
       "11    3.330669e-16\n",
       "13    2.828427e-03\n",
       "15    1.414214e-03\n",
       "17    2.449490e-03\n",
       "19    6.523803e-02\n",
       "dtype: float64"
      ]
     },
     "execution_count": 4,
     "metadata": {},
     "output_type": "execute_result"
    }
   ],
   "source": [
    "stdazul=(np.std(azul, axis=1)*3)\n",
    "stdazul"
   ]
  },
  {
   "cell_type": "code",
   "execution_count": 5,
   "id": "317fc9ef",
   "metadata": {
    "scrolled": false
   },
   "outputs": [
    {
     "data": {
      "text/html": [
       "<div>\n",
       "<style scoped>\n",
       "    .dataframe tbody tr th:only-of-type {\n",
       "        vertical-align: middle;\n",
       "    }\n",
       "\n",
       "    .dataframe tbody tr th {\n",
       "        vertical-align: top;\n",
       "    }\n",
       "\n",
       "    .dataframe thead th {\n",
       "        text-align: right;\n",
       "    }\n",
       "</style>\n",
       "<table border=\"1\" class=\"dataframe\">\n",
       "  <thead>\n",
       "    <tr style=\"text-align: right;\">\n",
       "      <th></th>\n",
       "      <th>1</th>\n",
       "      <th>3</th>\n",
       "      <th>5</th>\n",
       "      <th>molar</th>\n",
       "      <th>azula</th>\n",
       "      <th>std</th>\n",
       "    </tr>\n",
       "  </thead>\n",
       "  <tbody>\n",
       "    <tr>\n",
       "      <th>2</th>\n",
       "      <td>0.002</td>\n",
       "      <td>0.002</td>\n",
       "      <td>0.002</td>\n",
       "      <td>0</td>\n",
       "      <td>0.001500</td>\n",
       "      <td>0.000000e+00</td>\n",
       "    </tr>\n",
       "    <tr>\n",
       "      <th>3</th>\n",
       "      <td>0.1</td>\n",
       "      <td>0.09</td>\n",
       "      <td>0.089</td>\n",
       "      <td>0.000003</td>\n",
       "      <td>0.069751</td>\n",
       "      <td>1.489966e-02</td>\n",
       "    </tr>\n",
       "    <tr>\n",
       "      <th>5</th>\n",
       "      <td>0.276</td>\n",
       "      <td>0.267</td>\n",
       "      <td>0.267</td>\n",
       "      <td>0.00001</td>\n",
       "      <td>0.202503</td>\n",
       "      <td>1.272792e-02</td>\n",
       "    </tr>\n",
       "    <tr>\n",
       "      <th>7</th>\n",
       "      <td>0.484</td>\n",
       "      <td>0.482</td>\n",
       "      <td>0.483</td>\n",
       "      <td>0.000017</td>\n",
       "      <td>0.362254</td>\n",
       "      <td>2.449490e-03</td>\n",
       "    </tr>\n",
       "    <tr>\n",
       "      <th>9</th>\n",
       "      <td>0.674</td>\n",
       "      <td>0.66</td>\n",
       "      <td>0.659</td>\n",
       "      <td>0.000024</td>\n",
       "      <td>0.498256</td>\n",
       "      <td>2.054264e-02</td>\n",
       "    </tr>\n",
       "    <tr>\n",
       "      <th>11</th>\n",
       "      <td>0.877</td>\n",
       "      <td>0.877</td>\n",
       "      <td>0.877</td>\n",
       "      <td>0.000031</td>\n",
       "      <td>0.657758</td>\n",
       "      <td>3.330669e-16</td>\n",
       "    </tr>\n",
       "    <tr>\n",
       "      <th>13</th>\n",
       "      <td>1.042</td>\n",
       "      <td>1.04</td>\n",
       "      <td>1.04</td>\n",
       "      <td>0.000038</td>\n",
       "      <td>0.780510</td>\n",
       "      <td>2.828427e-03</td>\n",
       "    </tr>\n",
       "    <tr>\n",
       "      <th>15</th>\n",
       "      <td>1.267</td>\n",
       "      <td>1.267</td>\n",
       "      <td>1.266</td>\n",
       "      <td>0.000045</td>\n",
       "      <td>0.950011</td>\n",
       "      <td>1.414214e-03</td>\n",
       "    </tr>\n",
       "    <tr>\n",
       "      <th>17</th>\n",
       "      <td>1.479</td>\n",
       "      <td>1.478</td>\n",
       "      <td>1.477</td>\n",
       "      <td>0.000052</td>\n",
       "      <td>1.108513</td>\n",
       "      <td>2.449490e-03</td>\n",
       "    </tr>\n",
       "    <tr>\n",
       "      <th>19</th>\n",
       "      <td>1.644</td>\n",
       "      <td>1.64</td>\n",
       "      <td>1.688</td>\n",
       "      <td>0.000059</td>\n",
       "      <td>1.243015</td>\n",
       "      <td>6.523803e-02</td>\n",
       "    </tr>\n",
       "  </tbody>\n",
       "</table>\n",
       "</div>"
      ],
      "text/plain": [
       "        1      3      5     molar     azula           std\n",
       "2   0.002  0.002  0.002         0  0.001500  0.000000e+00\n",
       "3     0.1   0.09  0.089  0.000003  0.069751  1.489966e-02\n",
       "5   0.276  0.267  0.267   0.00001  0.202503  1.272792e-02\n",
       "7   0.484  0.482  0.483  0.000017  0.362254  2.449490e-03\n",
       "9   0.674   0.66  0.659  0.000024  0.498256  2.054264e-02\n",
       "11  0.877  0.877  0.877  0.000031  0.657758  3.330669e-16\n",
       "13  1.042   1.04   1.04  0.000038  0.780510  2.828427e-03\n",
       "15  1.267  1.267  1.266  0.000045  0.950011  1.414214e-03\n",
       "17  1.479  1.478  1.477  0.000052  1.108513  2.449490e-03\n",
       "19  1.644   1.64  1.688  0.000059  1.243015  6.523803e-02"
      ]
     },
     "execution_count": 5,
     "metadata": {},
     "output_type": "execute_result"
    }
   ],
   "source": [
    "azul['molar']=conc\n",
    "azul['azula']=azul.mean(axis=1)\n",
    "azul['std']=stdazul\n",
    "azul"
   ]
  },
  {
   "cell_type": "code",
   "execution_count": 6,
   "id": "4e6c8f5e",
   "metadata": {},
   "outputs": [],
   "source": [
    "x=azul[['molar']]\n",
    "y=azul[['azula']]"
   ]
  },
  {
   "cell_type": "code",
   "execution_count": 7,
   "id": "61e96216",
   "metadata": {},
   "outputs": [],
   "source": [
    "reg = linear_model.LinearRegression()\n",
    "reg.fit(x, y)\n",
    "y1_pred = reg.predict(x)\n",
    "m=reg.coef_[0]\n",
    "b=reg.intercept_[0]\n",
    "mse=skm.mean_squared_error(y, y1_pred)\n",
    "r2=skm.r2_score(y, y1_pred)"
   ]
  },
  {
   "cell_type": "code",
   "execution_count": 8,
   "id": "edf93dc5",
   "metadata": {},
   "outputs": [
    {
     "data": {
      "image/png": "[encoded data removed]",
      "text/plain": [
       "<Figure size 432x288 with 1 Axes>"
      ]
     },
     "metadata": {
      "needs_background": "light"
     },
     "output_type": "display_data"
    }
   ],
   "source": [
    "x=azul['molar']\n",
    "y=azul['azula']\n",
    "y_error =azul['std']\n",
    "\n",
    "fig, ax= plt.subplots()\n",
    "ax.scatter(x, y, color='#7f00ff', label='Data', edgecolors='red')\n",
    "ax.plot(np.array(x), np.array(y1_pred), color='#7f00ff', label='fix')\n",
    "ax.legend()\n",
    "ax.set_title(\"Curva\")\n",
    "ax.set_xlabel(\"[M]\")\n",
    "ax.set_ylabel(\"Abs\")\n",
    "ax.text(0.0000059, 1, r\"$r^2 = \"+str(\"{0:.3f}\".format(r2))+r\"$\", fontsize=12, color=\"k\")\n",
    "plt.errorbar(x, y,  yerr=y_error, fmt = '--ro', ms=10, ecolor='#7f00ff', elinewidth = 4, capsize = 10, capthick = 3)\n",
    "plt.show()\n",
    "fig.savefig(\"calcurve.pdf\",bbox_inches='tight')"
   ]
  },
  {
   "cell_type": "markdown",
   "id": "7481cee9",
   "metadata": {},
   "source": [
    "<font color='#0096D' size=7 align='center'><p style='text-align: center;'>**Segunda parte**"
   ]
  },
  {
   "cell_type": "code",
   "execution_count": 115,
   "id": "4ef920da",
   "metadata": {},
   "outputs": [
    {
     "data": {
      "text/plain": [
       "((59, 7468), (59, 1), (60, 7468), (60, 1))"
      ]
     },
     "execution_count": 115,
     "metadata": {},
     "output_type": "execute_result"
    }
   ],
   "source": [
    "spectra = pd.read_excel('./Datos/ASCI_IR.xlsx', header=None) \n",
    "attribute1 = pd.read_excel('./Datos/crudos.xlsx', header=None, usecols=[10], nrows=84) \n",
    "attribute2 = pd.read_excel('./Datos/crudos.xlsx', header=None, usecols=[11], nrows=84)\n",
    "J = pd.DataFrame(spectra) \n",
    "spectra0 = J.drop(J.index[[0]]) \n",
    "spectra1 = spectra0.values \n",
    "spectrat = spectra1.T \n",
    "s = pd.DataFrame(spectrat)\n",
    "# ----------------------------------------------------------------------------------------------------------#\n",
    "a1 = pd.DataFrame(attribute1) \n",
    "b1 = a1.drop(a1.index[[0]]) \n",
    "c1 = b1.drop(b1.index[[0]]) \n",
    "trait1 = pd.DataFrame(c1) \n",
    "trait1.reset_index(inplace=True, drop=True)\n",
    "# ----------------------------------------------------------------------------------------------------------#\n",
    "a2 = pd.DataFrame(attribute2) \n",
    "b2 = a2.drop(a2.index[[0]]) \n",
    "c2 = b2.drop(b2.index[[0]]) \n",
    "trait2 = pd.DataFrame(c2) \n",
    "trait2.reset_index(inplace=True, drop=True)\n",
    "# ----------------------------------------------------------------------------------------------------------#\n",
    "cct1 = pd.concat([trait1, s], axis=1, ignore_index=True)\n",
    "dcct1 = cct1.dropna()\n",
    "cct2 = pd.concat([trait2, s], axis=1, ignore_index=True)\n",
    "dcct2 = cct2.dropna()\n",
    "# ----------------------------------------------------------------------------------------------------------#\n",
    "dts1 = np.array(dcct1.drop(dcct1.index[[0]], axis=1))\n",
    "dts2 = np.array(dcct2.drop(dcct2.index[[0]], axis=1))\n",
    "dtt1 = np.array(dcct1[[0]])\n",
    "dtt2 = np.array(dcct2[[0]])\n",
    "dts1.shape, dtt1.shape, dts2.shape, dtt2.shape"
   ]
  },
  {
   "cell_type": "code",
   "execution_count": 116,
   "id": "169a7460",
   "metadata": {},
   "outputs": [],
   "source": [
    "sr1 = StandardScaler()\n",
    "n1 = Normalizer()\n",
    "sr1.fit(dts1)\n",
    "xsr = sr1.transform(dts1)\n",
    "xn1 = preprocessing.normalize(dts1, norm='l1')\n",
    "sr2 = StandardScaler()\n",
    "n2 = Normalizer()\n",
    "sr2.fit(dts2)\n",
    "xsr = sr2.transform(dts2)\n",
    "xn2 = preprocessing.normalize(dts2, norm='l1')"
   ]
  },
  {
   "cell_type": "code",
   "execution_count": 117,
   "id": "7ddb4bf4",
   "metadata": {},
   "outputs": [
    {
     "name": "stdout",
     "output_type": "stream",
     "text": [
      "MSE 1 =43.88\n",
      "MSE 2 =17.28\n"
     ]
    },
    {
     "data": {
      "image/png": "[encoded data removed]",
      "text/plain": [
       "<Figure size 864x432 with 2 Axes>"
      ]
     },
     "metadata": {
      "needs_background": "light"
     },
     "output_type": "display_data"
    }
   ],
   "source": [
    "x_train1, x_test1, y_train1, y_test1 = train_test_split(xn1, dtt1, train_size=0.8, random_state= 2, shuffle=True)\n",
    "x_train2, x_test2, y_train2, y_test2 = train_test_split(xn2, dtt2, train_size=0.8, random_state= 2, shuffle=True)\n",
    "plsr1 = PLSRegression(n_components=10)\n",
    "plsr1.fit(x_train1, y_train1)\n",
    "plsr2 = PLSRegression(n_components=10)\n",
    "plsr2.fit(x_train2, y_train2)\n",
    "yprediction1 = plsr1.predict(x_train1)\n",
    "yprediction1t = plsr1.predict(x_test1)\n",
    "yprediction2 = plsr2.predict(x_train2)\n",
    "yprediction2t = plsr2.predict(x_test2)\n",
    "# ----------------------------------------------------------------------------------------------------------#\n",
    "fig, ax = plt.subplots(1, 2, figsize= (12, 6))\n",
    "\n",
    "ax[0].scatter(y_train1, yprediction1, edgecolors=(0, 0, 0))\n",
    "ax[0].scatter(y_test1, yprediction1t, color='yellow', edgecolors=(0, 0, 0))\n",
    "ax[0].plot([y_train1.min(), y_train1.max()], [y_train1.min(), y_train1.max()], 'k--', lw=3)\n",
    "ax[0].text(14, 4, r\"2$MSE = \"+str(round(mean_squared_error(y_test1, yprediction1t), 2))+r\"$\", fontsize=13, color='k')\n",
    "ax[0].text(14, 2, r\"$r^2 = \"+str(round(r2_score(y_test1, yprediction1t), 2))+r\"$\", fontsize=13, color='k')\n",
    "ax[0].set_xlabel('measure')\n",
    "ax[0].set_ylabel('predict')\n",
    "ax[0].set_title('Trait 1 -> Resins', fontsize=13)\n",
    "# ----------------------------------------------------------------------------------------------------------#\n",
    "ax[1].scatter(y_train2, yprediction2, edgecolors=(0, 0, 0))\n",
    "ax[1].scatter(y_test2, yprediction2t, color='yellow', edgecolors=(0, 0, 0))\n",
    "ax[1].plot([y_train2.min(), y_train2.max()], [y_train2.min(), y_train2.max()], 'k--', lw=3)\n",
    "ax[1].text(10, 4, r\"2$MSE = \"+str(round(mean_squared_error(y_test2, yprediction2t), 2))+r\"$\", fontsize=13, color='k')\n",
    "ax[1].text(10, 3, r\"$r^2 = \"+str(round(r2_score(y_test2, yprediction2t), 2))+r\"$\", fontsize=13, color='k')\n",
    "ax[1].set_xlabel('measure')\n",
    "ax[1].set_ylabel('predict')\n",
    "ax[1].set_title('Trait 2 -> Asphaltenes', fontsize=13)\n",
    "# ----------------------------------------------------------------------------------------------------------#\n",
    "print('MSE 1 =' + str(round(mean_squared_error(y_test1, yprediction1t), 2)))\n",
    "print('MSE 2 =' + str(round(mean_squared_error(y_test2, yprediction2t), 2)))"
   ]
  },
  {
   "cell_type": "code",
   "execution_count": 129,
   "id": "e5fd235f",
   "metadata": {},
   "outputs": [],
   "source": [
    "def optimise_pls(X, y, xt, n_comp):\n",
    "    \n",
    "    pls = PLSRegression(n_components=n_comp)\n",
    "    pls.fit(X, y)\n",
    "    y_pred1 = pls.predict(X)\n",
    "    y_pred2 = pls.predict(xt)\n",
    "    r2 = r2_score(y, y_pred1)\n",
    "    mse = mean_squared_error(y, y_pred1)\n",
    "    rpd = y.std()/np.sqrt(mse)\n",
    "    \n",
    "    return (y_pred1, y_pred2, r2, mse, rpd)"
   ]
  },
  {
   "cell_type": "code",
   "execution_count": 130,
   "id": "ade3111c",
   "metadata": {},
   "outputs": [],
   "source": [
    "r2s = []\n",
    "mses = []\n",
    "rpds = []\n",
    "yp1 = []\n",
    "yp2 = []\n",
    "arr_rs = np.arange(1, 101)\n",
    "for n_rs in arr_rs:\n",
    "    x_train, x_test, y_train, y_test = train_test_split(xn1, dtt1, train_size=0.8, random_state=n_rs, shuffle= True)\n",
    "    \n",
    "    y_pred1, y_pred2, r2, mse, rpd = optimise_pls(x_train, y_train, x_test, 10)\n",
    "    r2s.append(r2)\n",
    "    mses.append(mse)\n",
    "    rpds.append(rpd)\n",
    "    yp1.append(y_pred1)\n",
    "    yp2.append(y_pred2)"
   ]
  },
  {
   "cell_type": "code",
   "execution_count": 131,
   "id": "22168120",
   "metadata": {},
   "outputs": [
    {
     "data": {
      "image/png": "[encoded data removed]",
      "text/plain": [
       "<Figure size 432x288 with 2 Axes>"
      ]
     },
     "metadata": {
      "needs_background": "light"
     },
     "output_type": "display_data"
    }
   ],
   "source": [
    "fig, (ax1, ax2) = plt.subplots(2, 1)\n",
    "#fig, ax = plt.subplots()\n",
    "ax1.scatter(arr_rs, r2s, edgecolors=(0, 0, 0))\n",
    "ax1.plot(arr_rs, r2s, 'k-')\n",
    "ax1.plot(arr_rs[np.argmax(r2s)], np.array(r2s)[np.argmax(r2s)], 'o', ms=8, mfc='red')\n",
    "ax1.set_xlabel('Number of PLS components')\n",
    "ax1.set_ylabel('$R^2$')\n",
    "\n",
    "ax2.scatter(arr_rs, mses, color='yellow', edgecolors=(0, 0, 0))\n",
    "ax2.plot(arr_rs, mses, 'k-')\n",
    "ax2.plot(arr_rs[np.argmin(mses)], np.array(mses)[np.argmin(mses)], 'o', ms=8, mfc='orange')\n",
    "ax2.set_xlabel('Number of PLS components')\n",
    "ax2.set_ylabel('$MSE$')\n",
    "plt.show()"
   ]
  },
  {
   "cell_type": "code",
   "execution_count": 132,
   "id": "c7ca00b0",
   "metadata": {
    "scrolled": true
   },
   "outputs": [
    {
     "name": "stdout",
     "output_type": "stream",
     "text": [
      "MSE. 1 on the test set: 52.44033383232709\n",
      "R2. 1 on the test set: -0.7658037257860155\n",
      "MSE. 2 on the test set: 26.721805061526073\n",
      "R2. 2 on the test set: -0.08705246035473735\n",
      "MSE. 3 on the test set: 48.833975676806595\n",
      "R2. 3 on the test set: -0.6139679694138152\n",
      "MSE. 4 on the test set: 96.40451587044505\n",
      "R2. 4 on the test set: -0.6465718368945081\n",
      "MSE. 5 on the test set: 38.96036892530902\n",
      "R2. 5 on the test set: -5.617231848758589\n"
     ]
    }
   ],
   "source": [
    "from sklearn.metrics import accuracy_score, classification_report, mean_squared_error, r2_score\n",
    "kf = KFold(n_splits=5, shuffle=True, random_state=20)\n",
    "model=PLSRegression(n_components=10) \n",
    "x_traint = [] \n",
    "x_testt = []\n",
    "y_traint = []\n",
    "y_testt = []\n",
    "r2s = []\n",
    "mses = []\n",
    "\n",
    "i = 1\n",
    "for train_index, test_index in kf.split(xn1):\n",
    "    x_train = xn1[train_index]\n",
    "    x_test = xn1[test_index]\n",
    "    y_train = dtt1[train_index]\n",
    "    y_test = dtt1[test_index]\n",
    "    model.fit(x_train, y_train) \n",
    "    mse = mean_squared_error(y_test, model.predict(x_test))\n",
    "    r2= r2_score(y_test, model.predict(x_test))\n",
    "    \n",
    " \n",
    "    x_traint.append(x_train) \n",
    "    x_testt.append(x_test)\n",
    "    y_traint.append(y_train)\n",
    "    y_testt.append(y_test)\n",
    "    r2s.append(r2)\n",
    "    mses.append(mse)\n",
    "   \n",
    "    \n",
    "    model.fit(x_train, y_train) \n",
    "    print(f\"MSE. {i} on the test set: {mean_squared_error(y_test, model.predict(x_test))}\")\n",
    "    print(f\"R2. {i} on the test set: {r2_score(y_test, model.predict(x_test))}\")\n",
    "    i += 1"
   ]
  },
  {
   "cell_type": "code",
   "execution_count": 133,
   "id": "5946e50e",
   "metadata": {},
   "outputs": [
    {
     "data": {
      "image/png": "[encoded data removed]",
      "text/plain": [
       "<Figure size 432x288 with 1 Axes>"
      ]
     },
     "metadata": {
      "needs_background": "light"
     },
     "output_type": "display_data"
    }
   ],
   "source": [
    "y_tr=np.array(y_traint[r2s.index(max(r2s))])\n",
    "y_te=np.array(y_testt[r2s.index(max(r2s))]) \n",
    "X_tr=np.array(x_traint[r2s.index(max(r2s))]) \n",
    "X_te=np.array(x_testt[r2s.index(max(r2s))])\n",
    "model.fit(X_tr, y_tr) \n",
    "\n",
    "Y_pred = model.predict(X_tr)\n",
    "Y_pred_test = model.predict(X_te)\n",
    "\n",
    "fig, ax = plt.subplots()\n",
    "ax.scatter(y_tr, Y_pred, edgecolors=(0, 0, 0))\n",
    "ax.scatter(y_te, Y_pred_test, color='red', label='test set', edgecolors=(0, 0, 0))\n",
    "ax.plot([y_tr.min(), y_tr.max()], [y_tr.min(), y_tr.max()], 'k--', lw=3)\n",
    "ax.text(30,12, r\"$MSE = \"+str(\"{0:.2f}\".format(mean_squared_error(y_te, Y_pred_test)))+r\"$\", fontsize=12, color=\"black\")\n",
    "ax.text(30,5, r\"$R^2 = \"+str(\"{0:.2f}\".format(r2_score(y_tr, Y_pred)))+r\"$\", fontsize=12, color=\"black\")\n",
    "ax.set_xlabel('Measured')\n",
    "ax.set_ylabel('Predicted')\n",
    "plt.show()"
   ]
  },
  {
   "cell_type": "code",
   "execution_count": 134,
   "id": "f68427d2",
   "metadata": {},
   "outputs": [
    {
     "data": {
      "image/png": "[encoded data removed]",
      "text/plain": [
       "<Figure size 432x288 with 1 Axes>"
      ]
     },
     "metadata": {
      "needs_background": "light"
     },
     "output_type": "display_data"
    }
   ],
   "source": [
    "fig, ax = plt.subplots()\n",
    "ax.scatter(y_tr, Y_pred, edgecolors=(0, 0, 0))\n",
    "ax.scatter(y_te, Y_pred_test, color='red', label='test set', edgecolors=(0, 0, 0))\n",
    "ax.plot([y_tr.min(), y_tr.max()], [y_tr.min(), y_tr.max()], 'k--', lw=3)\n",
    "ax.text(14,8, r\"$MSE = \"+str(\"{0:.2f}\".format(mean_squared_error(y_te, Y_pred_test)))+r\"$\", fontsize=12, color=\"black\")\n",
    "ax.text(14,5.5, r\"$R^2 = \"+str(\"{0:.2f}\".format(r2_score(y_tr, Y_pred)))+r\"$\", fontsize=12, color=\"black\")\n",
    "ax.set_xlabel('Measured')\n",
    "ax.set_ylabel('Predicted')\n",
    "plt.show()"
   ]
  },
  {
   "cell_type": "code",
   "execution_count": null,
   "id": "3d7fe408",
   "metadata": {},
   "outputs": [],
   "source": []
  }
 ],
 "metadata": {
  "kernelspec": {
   "display_name": "Python 3 (ipykernel)",
   "language": "python",
   "name": "python3"
  },
  "language_info": {
   "codemirror_mode": {
    "name": "ipython",
    "version": 3
   },
   "file_extension": ".py",
   "mimetype": "text/x-python",
   "name": "python",
   "nbconvert_exporter": "python",
   "pygments_lexer": "ipython3",
   "version": "3.9.7"
  }
 },
 "nbformat": 4,
 "nbformat_minor": 5
}
