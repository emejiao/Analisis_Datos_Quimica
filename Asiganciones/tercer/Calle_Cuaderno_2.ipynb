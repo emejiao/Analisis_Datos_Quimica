{
 "cells": [
  {
   "cell_type": "code",
   "execution_count": 1,
   "metadata": {},
   "outputs": [],
   "source": [
    "import numpy as np\n",
    "import pandas as pd\n",
    "import matplotlib.pylab as plt"
   ]
  },
  {
   "cell_type": "code",
   "execution_count": null,
   "metadata": {},
   "outputs": [],
   "source": [
    "lugar1=('https://github.com/emejiao/Analisis_Datos_Quimica/raw/main/Datos/IR4.CSV')\n",
    "lugar2=('https://github.com/emejiao/Analisis_Datos_Quimica/raw/main/Datos/IR6.CSV')\n",
    "lugar3=('https://github.com/emejiao/Analisis_Datos_Quimica/raw/main/Datos/MS3.txt')\n",
    "lugar4=('https://github.com/emejiao/Analisis_Datos_Quimica/raw/main/Datos/MS5.txt')\n",
    "ir4=np.loadtxt(lugar1, delimiter=',')\n",
    "ir6=np.loadtxt(lugar2, delimiter=',')\n",
    "ms3=np.loadtxt(lugar3)\n",
    "ms5=np.loadtxt(lugar4)"
   ]
  },
  {
   "cell_type": "code",
   "execution_count": null,
   "metadata": {},
   "outputs": [],
   "source": [
    "IR6=pd.DataFrame(ir6)\n",
    "IR4=pd.DataFrame(ir4)\n",
    "IR6.set_axis(['Número de onda', 'T'], axis=1,inplace=True)\n",
    "IR4.set_axis(['Número de onda', 'T'], axis=1,inplace=True)\n",
    "MS3=pd.DataFrame(ms3)\n",
    "MS5=pd.DataFrame(ms5)\n",
    "MS3.set_axis(['m/z', 'Int'], axis=1,inplace=True)\n",
    "MS5.set_axis(['m/z', 'Int'], axis=1,inplace=True)"
   ]
  },
  {
   "cell_type": "markdown",
   "metadata": {},
   "source": [
    "---\n",
    "<font color=black size=6 align='center'><p style='text-align: center;'>**1. Gráficas**  \n",
    "    \n",
    "---"
   ]
  },
  {
   "cell_type": "markdown",
   "metadata": {},
   "source": [
    "<font color=navy size=5> **1.1. Gráficas con múltiples datos**</font>  \n",
    "\n",
    "---"
   ]
  },
  {
   "cell_type": "markdown",
   "metadata": {},
   "source": [
    "### <font color='8A2BE2'>Espectro IR</font>"
   ]
  },
  {
   "cell_type": "code",
   "execution_count": null,
   "metadata": {},
   "outputs": [],
   "source": [
    "fig, ax = plt.subplots(figsize=(12,4))\n",
    "ax.plot(IR4['Número de onda'], IR4['T'], 'navy', label='IR4', markersize=5, lw=2) \n",
    "ax.plot(IR6['Número de onda'], IR6['T'], 'r', label='IR6', markersize=5, lw=2)\n",
    "ax.legend(loc='best', fontsize=14)\n",
    "ax.set_xlim(400, 4010)\n",
    "ax.set_ylim(55, 102)\n",
    "ax.set_xlabel('Número de onda [cm$^-$$^1$]', fontsize=14, color=\"black\")\n",
    "ax.set_ylabel('%T', fontsize=14, color=\"black\")\n",
    "ax.tick_params(labelsize=14, width=1)\n",
    "ax.set_title('Espectros IR', fontsize=18, color=\"black\")"
   ]
  },
  {
   "cell_type": "markdown",
   "metadata": {},
   "source": [
    "---\n",
    "### <font color='228B22'>Espectro de masas</font>"
   ]
  },
  {
   "cell_type": "code",
   "execution_count": null,
   "metadata": {},
   "outputs": [],
   "source": [
    "fig, ax = plt.subplots(figsize=(12,4))\n",
    "ax.plot(MS3['m/z'], MS3['Int']*15, 'navy', label='MS3', markersize=5, lw=2) \n",
    "ax.plot(MS5['m/z'], MS5['Int'], 'r', label='MS5', markersize=5, lw=2) \n",
    "ax.legend(loc='best', fontsize=14)\n",
    "ax.set_xlim(100, 800)\n",
    "ax.set_ylim(0, 36000)\n",
    "ax.set_xlabel('m/z', fontsize=14, color=\"black\")\n",
    "ax.set_ylabel('Intensidad', fontsize=14, color=\"black\")\n",
    "ax.tick_params(labelsize=14, width=1)\n",
    "ax.set_title('Espectros de masas', fontsize=18, color=\"black\")"
   ]
  },
  {
   "cell_type": "markdown",
   "metadata": {},
   "source": [
    "---\n",
    "<font color=navy size=5> **1.2. Varias gráficas en un conjunto de datos (ax[i,j].)**</font>  \n",
    "\n",
    "---"
   ]
  },
  {
   "cell_type": "code",
   "execution_count": null,
   "metadata": {},
   "outputs": [],
   "source": [
    "fig, ax = plt.subplots(2,2, figsize=(16,9))\n",
    "plt.rcParams[\"font.family\"] = 'Arial'\n",
    "\n",
    "ax[0,0].plot(IR4['Número de onda'], IR4['T'], 'navy', label='IR4', markersize=5, lw=2)\n",
    "ax[0,0].legend(loc='best', fontsize=13)\n",
    "ax[0,0].set_xlim(400, 4010)\n",
    "ax[0,0].set_ylim(55, 102)\n",
    "ax[0,0].set_xlabel('Número de onda [cm$^-$$^1$]', fontsize=13, color=\"black\")\n",
    "ax[0,0].set_ylabel('%T', fontsize=13, color=\"black\")\n",
    "ax[0,0].tick_params(labelsize=13, width=1)\n",
    "ax[0,0].set_title('Espectros IR', fontsize=18, color=\"black\")\n",
    "ax[0,0].text(455, 98.5, 'A)', fontsize=14, color=\"black\")\n",
    "\n",
    "ax[1,0].plot(IR6['Número de onda'], IR6['T'], 'r', label='IR4', markersize=5, lw=2)\n",
    "ax[1,0].legend(loc='lower left', fontsize=13)\n",
    "ax[1,0].set_xlim(400, 4010)\n",
    "ax[1,0].set_ylim(55, 102) \n",
    "ax[1,0].set_xlabel('Número de onda [cm$^-$$^1$]', fontsize=13, color=\"black\")\n",
    "ax[1,0].set_ylabel('%T', fontsize=13, color=\"black\")\n",
    "ax[1,0].tick_params(labelsize=13, width=1)\n",
    "ax[1,0].text(455, 98.5, 'B)', fontsize=14, color=\"black\")\n",
    "\n",
    "ax[0,1].plot(MS3['m/z'], MS3['Int'], 'c', label='MS3', markersize=5, lw=2) \n",
    "ax[0,1].legend(loc='best', fontsize=13)\n",
    "ax[0,1].set_xlim(100, 800)\n",
    "ax[0,1].set_ylim(0, 2100)\n",
    "ax[0,1].set_xlabel('m/z', fontsize=13, color=\"black\")\n",
    "ax[0,1].set_ylabel('Intensidad', fontsize=13, color=\"black\")\n",
    "ax[0,1].tick_params(labelsize=13, width=1)\n",
    "ax[0,1].set_title('Espectros de masas', fontsize=18, color=\"black\")\n",
    "ax[0,1].text(110, 1940, 'C)', fontsize=14, color=\"black\")\n",
    "\n",
    "ax[1,1].plot(MS5['m/z'], MS5['Int'], 'y', label='MS5', markersize=5, lw=2) \n",
    "ax[1,1].legend(loc='best', fontsize=13)\n",
    "ax[1,1].set_xlim(100, 800)\n",
    "ax[1,1].set_ylim(0, 36000)\n",
    "ax[1,1].set_xlabel('m/z', fontsize=13, color=\"black\")\n",
    "ax[1,1].set_ylabel('Intensidad', fontsize=13, color=\"black\")\n",
    "ax[1,1].tick_params(labelsize=13, width=1)\n",
    "ax[1,1].text(110, 33000, 'D)', fontsize=14, color=\"black\")\n",
    "\n",
    "plt.show()"
   ]
  },
  {
   "cell_type": "markdown",
   "metadata": {},
   "source": [
    "---\n",
    "<font color=navy size=5> **1.3. Bokeh**</font>  \n",
    "\n",
    "---"
   ]
  },
  {
   "cell_type": "markdown",
   "metadata": {},
   "source": [
    "### <font color='8A2BE2'>Espectro IR</font>"
   ]
  },
  {
   "cell_type": "code",
   "execution_count": null,
   "metadata": {},
   "outputs": [],
   "source": [
    "from bokeh.io import output_notebook, show, output_file, export_png\n",
    "from bokeh.plotting import figure, show\n",
    "output_notebook()\n",
    "TOOLS=\"hover,crosshair,pan,wheel_zoom,zoom_in,zoom_out,box_zoom,undo,redo,reset,tap,save,box_select,poly_select,lasso_select\"\n",
    "\n",
    "p = figure(title='FTIR', plot_width=600, plot_height=400, x_range=(399, 4010), y_range=(55, 102),\n",
    "           x_axis_label='Número de onda (cm-1)', y_axis_label='% T', toolbar_location=\"above\", tools=TOOLS)\n",
    "p.line(IR4['Número de onda'], IR4['T'], color='navy', line_width=2, legend_label='IR4')\n",
    "p.line(IR6['Número de onda'], IR6['T'], color='red', line_width=2, legend_label='IR6')\n",
    "\n",
    "p.grid.grid_line_alpha=0.3\n",
    "p.legend.location = \"bottom_right\"\n",
    "p.grid.visible = True\n",
    "p.title.align = \"center\"\n",
    "p.title.text_font_size = \"20px\"\n",
    "show(p)"
   ]
  },
  {
   "cell_type": "markdown",
   "metadata": {},
   "source": [
    "---\n",
    "### <font color='228B22'>Espectro de masas</font>"
   ]
  },
  {
   "cell_type": "code",
   "execution_count": null,
   "metadata": {},
   "outputs": [],
   "source": [
    "from bokeh.io import output_notebook, show, output_file, export_png\n",
    "from bokeh.plotting import figure, show\n",
    "output_notebook()\n",
    "TOOLS=\"hover,crosshair,pan,wheel_zoom,zoom_in,zoom_out,box_zoom,undo,redo,reset,tap,save,box_select,poly_select,lasso_select,\"\n",
    "\n",
    "p = figure(title='Espectros de masas', plot_width=600, plot_height=400, x_range=(100,800), y_range=(0, 36000),\n",
    "           x_axis_label='m/z', y_axis_label='Intensidad', toolbar_location=\"above\", tools=TOOLS)\n",
    "p.line(MS3['m/z'], MS3['Int']*15, color='navy', line_width=2, legend_label='MS3')\n",
    "p.line(MS5['m/z'], MS5['Int'], color='red', line_width=2, legend_label='MS5')\n",
    "\n",
    "p.grid.grid_line_alpha=0.3\n",
    "p.legend.location = \"top_right\"\n",
    "p.grid.visible = True\n",
    "p.title.align = \"center\"\n",
    "p.title.text_font_size = \"20px\"\n",
    "show(p)"
   ]
  },
  {
   "cell_type": "markdown",
   "metadata": {},
   "source": [
    "---\n",
    "<font color=navy size=5> **1.3.1 Pestañas**</font>  \n",
    "\n",
    "---"
   ]
  },
  {
   "cell_type": "code",
   "execution_count": null,
   "metadata": {},
   "outputs": [],
   "source": [
    "from bokeh.io import show\n",
    "from bokeh.models import Panel, Tabs\n",
    "from bokeh.plotting import figure\n",
    "\n",
    "p1 = figure(title='Espectros IR', plot_width=600, plot_height=400, x_range=(400, 4010), y_range=(55, 102),\n",
    "           x_axis_label='Número de onda (cm-1)', y_axis_label='%T', toolbar_location=\"above\", tools=TOOLS)\n",
    "p1.line(IR4['Número de onda'], IR4['T'], color='navy', legend_label='IR4', line_width=2)\n",
    "p1.line(IR6['Número de onda'], IR6['T'], color='red', legend_label='IR6', line_width=2)\n",
    "\n",
    "p1.grid.grid_line_alpha=0.5\n",
    "p1.legend.location = \"center_right\"\n",
    "p1.grid.visible = True\n",
    "p1.title.align = \"center\"\n",
    "p1.title.text_font_size = \"20px\"\n",
    "tab1 = Panel(child=p1, title=\"IR\")\n",
    "\n",
    "\n",
    "p2 = figure(title='Espectros de masas', plot_width=600, plot_height=400, x_range=(100, 800), y_range=(0,36000),\n",
    "           x_axis_label='m/z', y_axis_label='Intensidad', toolbar_location=\"above\", tools=TOOLS)\n",
    "p2.line(MS3['m/z'], MS3['Int']*15, color='navy', legend_label='MS3', line_width=2)\n",
    "p2.line(MS5['m/z'], MS5['Int'], color='red', legend_label='MS5', line_width=2)\n",
    "\n",
    "p2.grid.grid_line_alpha=0.5\n",
    "p2.legend.location = \"top_right\"\n",
    "p2.grid.visible = True\n",
    "p2.title.align = \"center\"\n",
    "p2.title.text_font_size = \"20px\"\n",
    "tab2 = Panel(child=p2, title=\"MS\")\n",
    "\n",
    "show(Tabs(tabs=[tab1, tab2]))"
   ]
  },
  {
   "cell_type": "code",
   "execution_count": null,
   "metadata": {},
   "outputs": [],
   "source": []
  }
 ],
 "metadata": {
  "kernelspec": {
   "display_name": "Python 3 (ipykernel)",
   "language": "python",
   "name": "python3"
  },
  "language_info": {
   "codemirror_mode": {
    "name": "ipython",
    "version": 3
   },
   "file_extension": ".py",
   "mimetype": "text/x-python",
   "name": "python",
   "nbconvert_exporter": "python",
   "pygments_lexer": "ipython3",
   "version": "3.9.7"
  }
 },
 "nbformat": 4,
 "nbformat_minor": 4
}
