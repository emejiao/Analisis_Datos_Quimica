{
 "cells": [
  {
   "cell_type": "markdown",
   "id": "365d6608-fc59-4783-930c-d52e5c1a9bd7",
   "metadata": {},
   "source": [
    "<font color='purple' size=6 align='center'><p style='text-align: center;'>**MI PRIMER CUADERNITO JUPYTER**\\\n",
    "    <font color=blue size=5>**Karol Rojas Buitrago**\\\n",
    "<font color=purple size=5>**Enrique Mejía Ospino, emejia@uis.edu.co**\\\n",
    "<font color=purple size=5>         **Universidad Industrial de Santander**"
   ]
  },
  {
   "cell_type": "code",
   "execution_count": 174,
   "id": "7bddce19-40fd-4a4c-ab46-c831dfc359c6",
   "metadata": {},
   "outputs": [],
   "source": [
    "import numpy as np\n",
    "import pandas as pd\n",
    "import matplotlib.pyplot as plt\n",
    "%matplotlib inline"
   ]
  },
  {
   "cell_type": "markdown",
   "id": "0c63c407-c413-4598-910c-3e3448c5f322",
   "metadata": {},
   "source": [
    "<font color=blue size=5>**Datos Infrarrojo** "
   ]
  },
  {
   "cell_type": "code",
   "execution_count": 175,
   "id": "9a07e2cc-7aa3-47c3-8e31-6ba4baa6e12c",
   "metadata": {},
   "outputs": [
    {
     "data": {
      "text/plain": [
       "(7469, 2)"
      ]
     },
     "execution_count": 175,
     "metadata": {},
     "output_type": "execute_result"
    }
   ],
   "source": [
    "archivo1=('C:\\\\Users\\\\Usuario\\\\OneDrive\\\\Analisis_Datos_Quimica-main\\Datos\\IR1.CSV')\n",
    "ir = np.loadtxt(archivo1, delimiter=',')\n",
    "ir.shape "
   ]
  },
  {
   "cell_type": "code",
   "execution_count": 176,
   "id": "78536384-7643-4ad9-8d8a-860bff076f02",
   "metadata": {},
   "outputs": [
    {
     "data": {
      "text/html": [
       "<div>\n",
       "<style scoped>\n",
       "    .dataframe tbody tr th:only-of-type {\n",
       "        vertical-align: middle;\n",
       "    }\n",
       "\n",
       "    .dataframe tbody tr th {\n",
       "        vertical-align: top;\n",
       "    }\n",
       "\n",
       "    .dataframe thead th {\n",
       "        text-align: right;\n",
       "    }\n",
       "</style>\n",
       "<table border=\"1\" class=\"dataframe\">\n",
       "  <thead>\n",
       "    <tr style=\"text-align: right;\">\n",
       "      <th></th>\n",
       "      <th>Número de onda</th>\n",
       "      <th>Transmitancia</th>\n",
       "    </tr>\n",
       "  </thead>\n",
       "  <tbody>\n",
       "    <tr>\n",
       "      <th>0</th>\n",
       "      <td>399.6813</td>\n",
       "      <td>0.00000</td>\n",
       "    </tr>\n",
       "    <tr>\n",
       "      <th>1</th>\n",
       "      <td>400.1635</td>\n",
       "      <td>75.84647</td>\n",
       "    </tr>\n",
       "    <tr>\n",
       "      <th>2</th>\n",
       "      <td>400.6456</td>\n",
       "      <td>76.13815</td>\n",
       "    </tr>\n",
       "    <tr>\n",
       "      <th>3</th>\n",
       "      <td>401.1277</td>\n",
       "      <td>76.36040</td>\n",
       "    </tr>\n",
       "    <tr>\n",
       "      <th>4</th>\n",
       "      <td>401.6098</td>\n",
       "      <td>76.57709</td>\n",
       "    </tr>\n",
       "    <tr>\n",
       "      <th>...</th>\n",
       "      <td>...</td>\n",
       "      <td>...</td>\n",
       "    </tr>\n",
       "    <tr>\n",
       "      <th>7464</th>\n",
       "      <td>3998.2590</td>\n",
       "      <td>99.40793</td>\n",
       "    </tr>\n",
       "    <tr>\n",
       "      <th>7465</th>\n",
       "      <td>3998.7410</td>\n",
       "      <td>99.40759</td>\n",
       "    </tr>\n",
       "    <tr>\n",
       "      <th>7466</th>\n",
       "      <td>3999.2240</td>\n",
       "      <td>99.40717</td>\n",
       "    </tr>\n",
       "    <tr>\n",
       "      <th>7467</th>\n",
       "      <td>3999.7060</td>\n",
       "      <td>99.40642</td>\n",
       "    </tr>\n",
       "    <tr>\n",
       "      <th>7468</th>\n",
       "      <td>4000.1880</td>\n",
       "      <td>99.40536</td>\n",
       "    </tr>\n",
       "  </tbody>\n",
       "</table>\n",
       "<p>7469 rows × 2 columns</p>\n",
       "</div>"
      ],
      "text/plain": [
       "      Número de onda  Transmitancia\n",
       "0           399.6813        0.00000\n",
       "1           400.1635       75.84647\n",
       "2           400.6456       76.13815\n",
       "3           401.1277       76.36040\n",
       "4           401.6098       76.57709\n",
       "...              ...            ...\n",
       "7464       3998.2590       99.40793\n",
       "7465       3998.7410       99.40759\n",
       "7466       3999.2240       99.40717\n",
       "7467       3999.7060       99.40642\n",
       "7468       4000.1880       99.40536\n",
       "\n",
       "[7469 rows x 2 columns]"
      ]
     },
     "execution_count": 176,
     "metadata": {},
     "output_type": "execute_result"
    }
   ],
   "source": [
    "IR1=pd.DataFrame(ir)\n",
    "IR1.head()\n",
    "IR1.set_axis(['Número de onda','Transmitancia'],axis=1, inplace=True) #use el inplace=True para afirmar que llame asi los ejes\n",
    "IR1#asi la llamo para que corra sino la llamo no sale"
   ]
  },
  {
   "cell_type": "code",
   "execution_count": 177,
   "id": "ca546ee5-9033-476c-8601-67e23ec824c6",
   "metadata": {},
   "outputs": [
    {
     "data": {
      "text/plain": [
       "(7469, 2)"
      ]
     },
     "execution_count": 177,
     "metadata": {},
     "output_type": "execute_result"
    }
   ],
   "source": [
    "archivo2=('C:\\\\Users\\\\Usuario\\\\OneDrive\\\\Analisis_Datos_Quimica-main\\Datos\\IR2.CSV')\n",
    "ir = np.loadtxt(archivo2, delimiter=',')\n",
    "ir.shape "
   ]
  },
  {
   "cell_type": "code",
   "execution_count": 178,
   "id": "e6b4862b-e583-4381-99c2-42200ebb0dcd",
   "metadata": {},
   "outputs": [
    {
     "data": {
      "text/html": [
       "<div>\n",
       "<style scoped>\n",
       "    .dataframe tbody tr th:only-of-type {\n",
       "        vertical-align: middle;\n",
       "    }\n",
       "\n",
       "    .dataframe tbody tr th {\n",
       "        vertical-align: top;\n",
       "    }\n",
       "\n",
       "    .dataframe thead th {\n",
       "        text-align: right;\n",
       "    }\n",
       "</style>\n",
       "<table border=\"1\" class=\"dataframe\">\n",
       "  <thead>\n",
       "    <tr style=\"text-align: right;\">\n",
       "      <th></th>\n",
       "      <th>Número de onda</th>\n",
       "      <th>Transmitancia</th>\n",
       "    </tr>\n",
       "  </thead>\n",
       "  <tbody>\n",
       "    <tr>\n",
       "      <th>0</th>\n",
       "      <td>399.6813</td>\n",
       "      <td>0.00000</td>\n",
       "    </tr>\n",
       "    <tr>\n",
       "      <th>1</th>\n",
       "      <td>400.1635</td>\n",
       "      <td>77.60327</td>\n",
       "    </tr>\n",
       "    <tr>\n",
       "      <th>2</th>\n",
       "      <td>400.6456</td>\n",
       "      <td>77.72319</td>\n",
       "    </tr>\n",
       "    <tr>\n",
       "      <th>3</th>\n",
       "      <td>401.1277</td>\n",
       "      <td>77.77132</td>\n",
       "    </tr>\n",
       "    <tr>\n",
       "      <th>4</th>\n",
       "      <td>401.6098</td>\n",
       "      <td>77.82449</td>\n",
       "    </tr>\n",
       "    <tr>\n",
       "      <th>...</th>\n",
       "      <td>...</td>\n",
       "      <td>...</td>\n",
       "    </tr>\n",
       "    <tr>\n",
       "      <th>7464</th>\n",
       "      <td>3998.2590</td>\n",
       "      <td>99.40846</td>\n",
       "    </tr>\n",
       "    <tr>\n",
       "      <th>7465</th>\n",
       "      <td>3998.7410</td>\n",
       "      <td>99.40794</td>\n",
       "    </tr>\n",
       "    <tr>\n",
       "      <th>7466</th>\n",
       "      <td>3999.2240</td>\n",
       "      <td>99.40787</td>\n",
       "    </tr>\n",
       "    <tr>\n",
       "      <th>7467</th>\n",
       "      <td>3999.7060</td>\n",
       "      <td>99.40830</td>\n",
       "    </tr>\n",
       "    <tr>\n",
       "      <th>7468</th>\n",
       "      <td>4000.1880</td>\n",
       "      <td>99.40907</td>\n",
       "    </tr>\n",
       "  </tbody>\n",
       "</table>\n",
       "<p>7469 rows × 2 columns</p>\n",
       "</div>"
      ],
      "text/plain": [
       "      Número de onda  Transmitancia\n",
       "0           399.6813        0.00000\n",
       "1           400.1635       77.60327\n",
       "2           400.6456       77.72319\n",
       "3           401.1277       77.77132\n",
       "4           401.6098       77.82449\n",
       "...              ...            ...\n",
       "7464       3998.2590       99.40846\n",
       "7465       3998.7410       99.40794\n",
       "7466       3999.2240       99.40787\n",
       "7467       3999.7060       99.40830\n",
       "7468       4000.1880       99.40907\n",
       "\n",
       "[7469 rows x 2 columns]"
      ]
     },
     "execution_count": 178,
     "metadata": {},
     "output_type": "execute_result"
    }
   ],
   "source": [
    "IR2=pd.DataFrame(ir) # Aca converti de numpy a panda el archivo\n",
    "IR2.head()\n",
    "IR2.set_axis(['Número de onda','Transmitancia'],axis=1, inplace=True)\n",
    "IR2"
   ]
  },
  {
   "cell_type": "code",
   "execution_count": 179,
   "id": "cdc19ae1-3baa-4c56-ab29-cfcf2e13a0d1",
   "metadata": {},
   "outputs": [
    {
     "data": {
      "text/plain": [
       "(7469, 2)"
      ]
     },
     "execution_count": 179,
     "metadata": {},
     "output_type": "execute_result"
    }
   ],
   "source": [
    "archivo3=('C:\\\\Users\\\\Usuario\\\\OneDrive\\\\Analisis_Datos_Quimica-main\\Datos\\IR3.CSV')\n",
    "ir = np.loadtxt(archivo3, delimiter=',')\n",
    "ir.shape "
   ]
  },
  {
   "cell_type": "code",
   "execution_count": 180,
   "id": "0f0f125f-a8c8-463e-966e-603a130c6416",
   "metadata": {},
   "outputs": [
    {
     "data": {
      "text/html": [
       "<div>\n",
       "<style scoped>\n",
       "    .dataframe tbody tr th:only-of-type {\n",
       "        vertical-align: middle;\n",
       "    }\n",
       "\n",
       "    .dataframe tbody tr th {\n",
       "        vertical-align: top;\n",
       "    }\n",
       "\n",
       "    .dataframe thead th {\n",
       "        text-align: right;\n",
       "    }\n",
       "</style>\n",
       "<table border=\"1\" class=\"dataframe\">\n",
       "  <thead>\n",
       "    <tr style=\"text-align: right;\">\n",
       "      <th></th>\n",
       "      <th>Número de onda</th>\n",
       "      <th>Transmitancia</th>\n",
       "    </tr>\n",
       "  </thead>\n",
       "  <tbody>\n",
       "    <tr>\n",
       "      <th>0</th>\n",
       "      <td>399.6813</td>\n",
       "      <td>0.00000</td>\n",
       "    </tr>\n",
       "    <tr>\n",
       "      <th>1</th>\n",
       "      <td>400.1635</td>\n",
       "      <td>84.54559</td>\n",
       "    </tr>\n",
       "    <tr>\n",
       "      <th>2</th>\n",
       "      <td>400.6456</td>\n",
       "      <td>84.58085</td>\n",
       "    </tr>\n",
       "    <tr>\n",
       "      <th>3</th>\n",
       "      <td>401.1277</td>\n",
       "      <td>84.66300</td>\n",
       "    </tr>\n",
       "    <tr>\n",
       "      <th>4</th>\n",
       "      <td>401.6098</td>\n",
       "      <td>84.79237</td>\n",
       "    </tr>\n",
       "    <tr>\n",
       "      <th>...</th>\n",
       "      <td>...</td>\n",
       "      <td>...</td>\n",
       "    </tr>\n",
       "    <tr>\n",
       "      <th>7464</th>\n",
       "      <td>3998.2590</td>\n",
       "      <td>99.38236</td>\n",
       "    </tr>\n",
       "    <tr>\n",
       "      <th>7465</th>\n",
       "      <td>3998.7410</td>\n",
       "      <td>99.38454</td>\n",
       "    </tr>\n",
       "    <tr>\n",
       "      <th>7466</th>\n",
       "      <td>3999.2240</td>\n",
       "      <td>99.38631</td>\n",
       "    </tr>\n",
       "    <tr>\n",
       "      <th>7467</th>\n",
       "      <td>3999.7060</td>\n",
       "      <td>99.38711</td>\n",
       "    </tr>\n",
       "    <tr>\n",
       "      <th>7468</th>\n",
       "      <td>4000.1880</td>\n",
       "      <td>99.38670</td>\n",
       "    </tr>\n",
       "  </tbody>\n",
       "</table>\n",
       "<p>7469 rows × 2 columns</p>\n",
       "</div>"
      ],
      "text/plain": [
       "      Número de onda  Transmitancia\n",
       "0           399.6813        0.00000\n",
       "1           400.1635       84.54559\n",
       "2           400.6456       84.58085\n",
       "3           401.1277       84.66300\n",
       "4           401.6098       84.79237\n",
       "...              ...            ...\n",
       "7464       3998.2590       99.38236\n",
       "7465       3998.7410       99.38454\n",
       "7466       3999.2240       99.38631\n",
       "7467       3999.7060       99.38711\n",
       "7468       4000.1880       99.38670\n",
       "\n",
       "[7469 rows x 2 columns]"
      ]
     },
     "execution_count": 180,
     "metadata": {},
     "output_type": "execute_result"
    }
   ],
   "source": [
    "IR3=pd.DataFrame(ir)\n",
    "IR3.head()\n",
    "IR3.set_axis(['Número de onda','Transmitancia'],axis=1, inplace=True)\n",
    "IR3"
   ]
  },
  {
   "cell_type": "markdown",
   "id": "f64e21ca-39d4-4c71-a3cd-106a8a29a129",
   "metadata": {},
   "source": [
    "<font color=blue size=5>**Grafica con los tres archivos de IR y MS** "
   ]
  },
  {
   "cell_type": "code",
   "execution_count": 202,
   "id": "b0fc6967-dd79-4013-af84-bd70c26e6f15",
   "metadata": {},
   "outputs": [
    {
     "data": {
      "image/png": "[encoded data removed]",
      "text/plain": [
       "<Figure size 648x360 with 1 Axes>"
      ]
     },
     "metadata": {
      "needs_background": "light"
     },
     "output_type": "display_data"
    },
    {
     "data": {
      "image/png": "[encoded data removed]",
      "text/plain": [
       "<Figure size 648x360 with 1 Axes>"
      ]
     },
     "metadata": {
      "needs_background": "light"
     },
     "output_type": "display_data"
    }
   ],
   "source": [
    "#Figura 1 espectro IR\n",
    "fig, ax = plt.subplots(figsize=(9,5))\n",
    "from matplotlib.ticker import MultipleLocator, AutoMinorLocator\n",
    "plt.rcParams[\"font.family\"] = 'Times New Roman'\n",
    "ax.plot(IR3[\"Número de onda\"], IR3[\"Transmitancia\"], 'b', label='IR3', markersize=5, lw=2)\n",
    "ax.plot(IR2[\"Número de onda\"], IR2[\"Transmitancia\"], 'g', label='IR2', markersize=5)\n",
    "ax.plot(IR1[\"Número de onda\"], IR1[\"Transmitancia\"], 'm', label='IR1', markersize=5)\n",
    "ax.legend(loc='best', fontsize=12)\n",
    "ax.set_xlabel('Número de onda ($cm^{-1}$)',  fontsize=16)\n",
    "ax.set_ylabel('% Transmitancia', fontsize=16)\n",
    "fig.savefig(\"Z_Pot.tif\", dpi=200)\n",
    "plt.show()\n",
    "\n",
    "#Figura 2 Espectro MS\n",
    "fig, ax = plt.subplots(figsize=(9,5))\n",
    "from matplotlib.ticker import MultipleLocator, AutoMinorLocator\n",
    "plt.rcParams[\"font.family\"] = 'Times New Roman'\n",
    "ax.plot(MS[\"m/z\"], MS[\"Int\"], 'b', label='MS', markersize=5, lw=2)\n",
    "ax.plot(MS2[\"m/z\"], MS2[\"Int\"], 'g', label='MS2', markersize=5)\n",
    "ax.plot(MS3[\"m/z\"], MS3[\"Int\"], 'm', label='MS3', markersize=5)\n",
    "ax.legend(loc='best', fontsize=12)\n",
    "ax.set_xlabel('m/z',  fontsize=16)\n",
    "ax.set_ylabel('Intensidad', fontsize=16)\n",
    "fig.savefig(\"Z_Pot.tif\", dpi=200)\n",
    "plt.show()"
   ]
  },
  {
   "cell_type": "markdown",
   "id": "8d9ab76a-4bce-49b7-bc11-445c2f8cfbf5",
   "metadata": {},
   "source": [
    "<font color=blue size=5>**Grafica con solo un archivo IR y MS** "
   ]
  },
  {
   "cell_type": "code",
   "execution_count": null,
   "id": "7d7e0294-5bb6-4c64-bb3e-b749fbcf4b6a",
   "metadata": {},
   "outputs": [
    {
     "data": {
      "image/png": "[encoded data removed]",
      "text/plain": [
       "<Figure size 648x360 with 1 Axes>"
      ]
     },
     "metadata": {
      "needs_background": "light"
     },
     "output_type": "display_data"
    },
    {
     "data": {
      "image/png": "[encoded data removed]",
      "text/plain": [
       "<Figure size 648x360 with 1 Axes>"
      ]
     },
     "metadata": {
      "needs_background": "light"
     },
     "output_type": "display_data"
    }
   ],
   "source": [
    "fig, ax = plt.subplots(figsize=(9,5))\n",
    "from matplotlib.ticker import MultipleLocator, AutoMinorLocator\n",
    "plt.rcParams[\"font.family\"] = 'Times New Roman'\n",
    "ax.plot(IR3[\"Número de onda\"], IR3[\"Transmitancia\"], 'b', label='IR3', markersize=5, lw=1)\n",
    "ax.legend(loc='best', fontsize=12)\n",
    "ax.legend(loc='best', fontsize=12)\n",
    "ax.set_xlabel('Número de onda($cm^{-1}$)',  fontsize=16)\n",
    "ax.set_ylabel('% Transmitancia', fontsize=16)\n",
    "fig.savefig(\"Z_Pot.tif\", dpi=200)\n",
    "plt.show()\n",
    "\n",
    "\n",
    "fig, ax = plt.subplots(figsize=(9,5))\n",
    "from matplotlib.ticker import MultipleLocator, AutoMinorLocator\n",
    "plt.rcParams[\"font.family\"] = 'Times New Roman'\n",
    "ax.plot(MS3[\"m/z\"], MS3[\"Int\"], 'b', label='MS3', markersize=5, lw=1)\n",
    "ax.legend(loc='best', fontsize=12)\n",
    "ax.legend(loc='best', fontsize=12)\n",
    "ax.set_xlabel('m/z',  fontsize=16)\n",
    "ax.set_ylabel('Intensidad', fontsize=16)\n",
    "fig.savefig(\"Z_Pot.tif\", dpi=200)\n",
    "plt.show()"
   ]
  },
  {
   "cell_type": "markdown",
   "id": "869206aa-0e46-485c-91bd-2ef69068d435",
   "metadata": {},
   "source": [
    "<font color=blue size=5>**Datos espectrometria de masas** "
   ]
  },
  {
   "cell_type": "code",
   "execution_count": 184,
   "id": "589a85c8-d82f-460b-b661-4eb9227a0d9d",
   "metadata": {},
   "outputs": [
    {
     "data": {
      "text/plain": [
       "(7361, 2)"
      ]
     },
     "execution_count": 184,
     "metadata": {},
     "output_type": "execute_result"
    }
   ],
   "source": [
    "archivo4=np.loadtxt('C:\\\\Users\\\\Usuario\\\\OneDrive\\\\Analisis_Datos_Quimica-main\\Datos\\MS.txt')\n",
    "archivo4.shape "
   ]
  },
  {
   "cell_type": "code",
   "execution_count": 185,
   "id": "671d164a-59e1-4514-ab94-758ba4e683b5",
   "metadata": {},
   "outputs": [
    {
     "data": {
      "text/html": [
       "<div>\n",
       "<style scoped>\n",
       "    .dataframe tbody tr th:only-of-type {\n",
       "        vertical-align: middle;\n",
       "    }\n",
       "\n",
       "    .dataframe tbody tr th {\n",
       "        vertical-align: top;\n",
       "    }\n",
       "\n",
       "    .dataframe thead th {\n",
       "        text-align: right;\n",
       "    }\n",
       "</style>\n",
       "<table border=\"1\" class=\"dataframe\">\n",
       "  <thead>\n",
       "    <tr style=\"text-align: right;\">\n",
       "      <th></th>\n",
       "      <th>m/z</th>\n",
       "      <th>Int</th>\n",
       "    </tr>\n",
       "  </thead>\n",
       "  <tbody>\n",
       "    <tr>\n",
       "      <th>0</th>\n",
       "      <td>80.0</td>\n",
       "      <td>7.0</td>\n",
       "    </tr>\n",
       "    <tr>\n",
       "      <th>1</th>\n",
       "      <td>80.1</td>\n",
       "      <td>3.0</td>\n",
       "    </tr>\n",
       "    <tr>\n",
       "      <th>2</th>\n",
       "      <td>80.3</td>\n",
       "      <td>3.0</td>\n",
       "    </tr>\n",
       "    <tr>\n",
       "      <th>3</th>\n",
       "      <td>80.4</td>\n",
       "      <td>95.0</td>\n",
       "    </tr>\n",
       "    <tr>\n",
       "      <th>4</th>\n",
       "      <td>80.5</td>\n",
       "      <td>519.0</td>\n",
       "    </tr>\n",
       "    <tr>\n",
       "      <th>...</th>\n",
       "      <td>...</td>\n",
       "      <td>...</td>\n",
       "    </tr>\n",
       "    <tr>\n",
       "      <th>7356</th>\n",
       "      <td>999.5</td>\n",
       "      <td>222.0</td>\n",
       "    </tr>\n",
       "    <tr>\n",
       "      <th>7357</th>\n",
       "      <td>999.6</td>\n",
       "      <td>114.0</td>\n",
       "    </tr>\n",
       "    <tr>\n",
       "      <th>7358</th>\n",
       "      <td>999.8</td>\n",
       "      <td>58.0</td>\n",
       "    </tr>\n",
       "    <tr>\n",
       "      <th>7359</th>\n",
       "      <td>999.9</td>\n",
       "      <td>29.0</td>\n",
       "    </tr>\n",
       "    <tr>\n",
       "      <th>7360</th>\n",
       "      <td>1000.0</td>\n",
       "      <td>15.0</td>\n",
       "    </tr>\n",
       "  </tbody>\n",
       "</table>\n",
       "<p>7361 rows × 2 columns</p>\n",
       "</div>"
      ],
      "text/plain": [
       "         m/z    Int\n",
       "0       80.0    7.0\n",
       "1       80.1    3.0\n",
       "2       80.3    3.0\n",
       "3       80.4   95.0\n",
       "4       80.5  519.0\n",
       "...      ...    ...\n",
       "7356   999.5  222.0\n",
       "7357   999.6  114.0\n",
       "7358   999.8   58.0\n",
       "7359   999.9   29.0\n",
       "7360  1000.0   15.0\n",
       "\n",
       "[7361 rows x 2 columns]"
      ]
     },
     "execution_count": 185,
     "metadata": {},
     "output_type": "execute_result"
    }
   ],
   "source": [
    "MS=pd.DataFrame(archivo4)\n",
    "MS.head()\n",
    "MS.set_axis(['m/z','Int'],axis=1, inplace=True)\n",
    "MS"
   ]
  },
  {
   "cell_type": "code",
   "execution_count": 186,
   "id": "88fb10d7-9e92-4659-a2b0-8e717217349d",
   "metadata": {},
   "outputs": [
    {
     "data": {
      "text/plain": [
       "(414208, 2)"
      ]
     },
     "execution_count": 186,
     "metadata": {},
     "output_type": "execute_result"
    }
   ],
   "source": [
    "archivo5=np.loadtxt('C:\\\\Users\\\\Usuario\\\\OneDrive\\\\Analisis_Datos_Quimica-main\\Datos\\MS2.txt')\n",
    "archivo5.shape "
   ]
  },
  {
   "cell_type": "code",
   "execution_count": 187,
   "id": "6f65b827-de4b-4aca-90ee-6de392ff806d",
   "metadata": {},
   "outputs": [
    {
     "data": {
      "text/html": [
       "<div>\n",
       "<style scoped>\n",
       "    .dataframe tbody tr th:only-of-type {\n",
       "        vertical-align: middle;\n",
       "    }\n",
       "\n",
       "    .dataframe tbody tr th {\n",
       "        vertical-align: top;\n",
       "    }\n",
       "\n",
       "    .dataframe thead th {\n",
       "        text-align: right;\n",
       "    }\n",
       "</style>\n",
       "<table border=\"1\" class=\"dataframe\">\n",
       "  <thead>\n",
       "    <tr style=\"text-align: right;\">\n",
       "      <th></th>\n",
       "      <th>m/z</th>\n",
       "      <th>Int</th>\n",
       "    </tr>\n",
       "  </thead>\n",
       "  <tbody>\n",
       "    <tr>\n",
       "      <th>0</th>\n",
       "      <td>-0.016</td>\n",
       "      <td>0.0</td>\n",
       "    </tr>\n",
       "    <tr>\n",
       "      <th>1</th>\n",
       "      <td>-0.015</td>\n",
       "      <td>0.0</td>\n",
       "    </tr>\n",
       "    <tr>\n",
       "      <th>2</th>\n",
       "      <td>-0.014</td>\n",
       "      <td>0.0</td>\n",
       "    </tr>\n",
       "    <tr>\n",
       "      <th>3</th>\n",
       "      <td>-0.013</td>\n",
       "      <td>0.0</td>\n",
       "    </tr>\n",
       "    <tr>\n",
       "      <th>4</th>\n",
       "      <td>-0.012</td>\n",
       "      <td>0.0</td>\n",
       "    </tr>\n",
       "    <tr>\n",
       "      <th>...</th>\n",
       "      <td>...</td>\n",
       "      <td>...</td>\n",
       "    </tr>\n",
       "    <tr>\n",
       "      <th>414203</th>\n",
       "      <td>4694.106</td>\n",
       "      <td>906.0</td>\n",
       "    </tr>\n",
       "    <tr>\n",
       "      <th>414204</th>\n",
       "      <td>4694.127</td>\n",
       "      <td>844.0</td>\n",
       "    </tr>\n",
       "    <tr>\n",
       "      <th>414205</th>\n",
       "      <td>4694.149</td>\n",
       "      <td>1082.0</td>\n",
       "    </tr>\n",
       "    <tr>\n",
       "      <th>414206</th>\n",
       "      <td>4694.171</td>\n",
       "      <td>1334.0</td>\n",
       "    </tr>\n",
       "    <tr>\n",
       "      <th>414207</th>\n",
       "      <td>4694.193</td>\n",
       "      <td>1246.0</td>\n",
       "    </tr>\n",
       "  </tbody>\n",
       "</table>\n",
       "<p>414208 rows × 2 columns</p>\n",
       "</div>"
      ],
      "text/plain": [
       "             m/z     Int\n",
       "0         -0.016     0.0\n",
       "1         -0.015     0.0\n",
       "2         -0.014     0.0\n",
       "3         -0.013     0.0\n",
       "4         -0.012     0.0\n",
       "...          ...     ...\n",
       "414203  4694.106   906.0\n",
       "414204  4694.127   844.0\n",
       "414205  4694.149  1082.0\n",
       "414206  4694.171  1334.0\n",
       "414207  4694.193  1246.0\n",
       "\n",
       "[414208 rows x 2 columns]"
      ]
     },
     "execution_count": 187,
     "metadata": {},
     "output_type": "execute_result"
    }
   ],
   "source": [
    "MS2=pd.DataFrame(archivo5)\n",
    "MS2.head()\n",
    "MS2.set_axis(['m/z','Int'],axis=1, inplace=True)\n",
    "MS2"
   ]
  },
  {
   "cell_type": "code",
   "execution_count": 188,
   "id": "1af121ff-08ab-4306-ade1-8824e145b6ae",
   "metadata": {},
   "outputs": [
    {
     "data": {
      "text/plain": [
       "(414208, 2)"
      ]
     },
     "execution_count": 188,
     "metadata": {},
     "output_type": "execute_result"
    }
   ],
   "source": [
    "archivo5=np.loadtxt('C:\\\\Users\\\\Usuario\\\\OneDrive\\\\Analisis_Datos_Quimica-main\\Datos\\MS3.txt')\n",
    "archivo5.shape "
   ]
  },
  {
   "cell_type": "code",
   "execution_count": 189,
   "id": "1504a539-2303-4830-a76f-7f5d70409c69",
   "metadata": {},
   "outputs": [
    {
     "data": {
      "text/html": [
       "<div>\n",
       "<style scoped>\n",
       "    .dataframe tbody tr th:only-of-type {\n",
       "        vertical-align: middle;\n",
       "    }\n",
       "\n",
       "    .dataframe tbody tr th {\n",
       "        vertical-align: top;\n",
       "    }\n",
       "\n",
       "    .dataframe thead th {\n",
       "        text-align: right;\n",
       "    }\n",
       "</style>\n",
       "<table border=\"1\" class=\"dataframe\">\n",
       "  <thead>\n",
       "    <tr style=\"text-align: right;\">\n",
       "      <th></th>\n",
       "      <th>m/z</th>\n",
       "      <th>Int</th>\n",
       "    </tr>\n",
       "  </thead>\n",
       "  <tbody>\n",
       "    <tr>\n",
       "      <th>0</th>\n",
       "      <td>-0.016</td>\n",
       "      <td>0.0</td>\n",
       "    </tr>\n",
       "    <tr>\n",
       "      <th>1</th>\n",
       "      <td>-0.015</td>\n",
       "      <td>0.0</td>\n",
       "    </tr>\n",
       "    <tr>\n",
       "      <th>2</th>\n",
       "      <td>-0.014</td>\n",
       "      <td>0.0</td>\n",
       "    </tr>\n",
       "    <tr>\n",
       "      <th>3</th>\n",
       "      <td>-0.013</td>\n",
       "      <td>0.0</td>\n",
       "    </tr>\n",
       "    <tr>\n",
       "      <th>4</th>\n",
       "      <td>-0.012</td>\n",
       "      <td>0.0</td>\n",
       "    </tr>\n",
       "    <tr>\n",
       "      <th>...</th>\n",
       "      <td>...</td>\n",
       "      <td>...</td>\n",
       "    </tr>\n",
       "    <tr>\n",
       "      <th>414203</th>\n",
       "      <td>4694.106</td>\n",
       "      <td>0.0</td>\n",
       "    </tr>\n",
       "    <tr>\n",
       "      <th>414204</th>\n",
       "      <td>4694.127</td>\n",
       "      <td>0.0</td>\n",
       "    </tr>\n",
       "    <tr>\n",
       "      <th>414205</th>\n",
       "      <td>4694.149</td>\n",
       "      <td>0.0</td>\n",
       "    </tr>\n",
       "    <tr>\n",
       "      <th>414206</th>\n",
       "      <td>4694.171</td>\n",
       "      <td>0.0</td>\n",
       "    </tr>\n",
       "    <tr>\n",
       "      <th>414207</th>\n",
       "      <td>4694.193</td>\n",
       "      <td>0.0</td>\n",
       "    </tr>\n",
       "  </tbody>\n",
       "</table>\n",
       "<p>414208 rows × 2 columns</p>\n",
       "</div>"
      ],
      "text/plain": [
       "             m/z  Int\n",
       "0         -0.016  0.0\n",
       "1         -0.015  0.0\n",
       "2         -0.014  0.0\n",
       "3         -0.013  0.0\n",
       "4         -0.012  0.0\n",
       "...          ...  ...\n",
       "414203  4694.106  0.0\n",
       "414204  4694.127  0.0\n",
       "414205  4694.149  0.0\n",
       "414206  4694.171  0.0\n",
       "414207  4694.193  0.0\n",
       "\n",
       "[414208 rows x 2 columns]"
      ]
     },
     "execution_count": 189,
     "metadata": {},
     "output_type": "execute_result"
    }
   ],
   "source": [
    "MS3=pd.DataFrame(archivo5)\n",
    "MS3.head()\n",
    "MS3.set_axis(['m/z','Int'],axis=1, inplace=True)\n",
    "MS3"
   ]
  },
  {
   "cell_type": "code",
   "execution_count": 190,
   "id": "f23f0afb-c2ea-4123-825c-f061d69e78b8",
   "metadata": {},
   "outputs": [
    {
     "data": {
      "text/plain": [
       "(414208, 2)"
      ]
     },
     "execution_count": 190,
     "metadata": {},
     "output_type": "execute_result"
    }
   ],
   "source": [
    "archivo6=np.loadtxt('C:\\\\Users\\\\Usuario\\\\OneDrive\\\\Analisis_Datos_Quimica-main\\Datos\\MS4.txt')\n",
    "archivo6.shape "
   ]
  },
  {
   "cell_type": "code",
   "execution_count": 191,
   "id": "4302dd15-8d5a-4596-a66e-1ee994ac0868",
   "metadata": {},
   "outputs": [],
   "source": [
    "MS4=pd.DataFrame(archivo6)\n",
    "MS4.head()\n",
    "MS4.set_axis(['m/z','Int'],axis=1, inplace=True)"
   ]
  },
  {
   "cell_type": "markdown",
   "id": "76b4b03a-b6ec-4c0e-8d71-4f606a97517a",
   "metadata": {},
   "source": [
    "<font color=green size=5>**Dataframe con los tres archivos IR** "
   ]
  },
  {
   "cell_type": "code",
   "execution_count": 193,
   "id": "e8dfcdfb-6ce3-4ee6-a726-d6e92ccbbe11",
   "metadata": {},
   "outputs": [],
   "source": [
    "IRT.to_excel('./Datos/Archivo1.xlsx',sheet_name='Infrarrojo')"
   ]
  },
  {
   "cell_type": "code",
   "execution_count": 194,
   "id": "a060ef3d-0f84-4ea7-8416-58a677a79783",
   "metadata": {},
   "outputs": [
    {
     "data": {
      "image/png": "[encoded data removed]",
      "text/plain": [
       "<Figure size 648x432 with 1 Axes>"
      ]
     },
     "metadata": {
      "needs_background": "light"
     },
     "output_type": "display_data"
    }
   ],
   "source": [
    "fig, ax = plt.subplots(figsize=(9,6))\n",
    "from matplotlib.ticker import MultipleLocator, AutoMinorLocator\n",
    "plt.rcParams[\"font.family\"] = 'Times New Roman'\n",
    "plt.plot(IRT[['Número de onda']], IRT[['Transmitancia 1']], label='IR1',  lw=1)\n",
    "plt.plot(IRT[['Número de onda']], IRT[['Transmitancia 2']], label='IR2',  lw=1)\n",
    "plt.plot(IRT[['Número de onda']], IRT[['Transmitancia 3']], label='IR3',  lw=1)\n",
    "ax.set_xlabel('Número de onda',  fontsize=16)\n",
    "ax.set_ylabel('Transmitancia', fontsize=16)\n",
    "ax.legend(loc='best', fontsize=12)#esto lo pongo para que aparezca las leyendas de la grafica\n",
    "plt.show()#se usa para que la grafica quede en un formato digital lindo"
   ]
  },
  {
   "cell_type": "markdown",
   "id": "ff4d0675-b70f-4eac-971b-1df0f014775c",
   "metadata": {},
   "source": [
    "<font color=green size=5>**Dataframe con los tres archivos MS** "
   ]
  },
  {
   "cell_type": "code",
   "execution_count": 195,
   "id": "8546b8df-3012-48c6-a9a2-bdc88331dc4c",
   "metadata": {},
   "outputs": [
    {
     "data": {
      "text/html": [
       "<div>\n",
       "<style scoped>\n",
       "    .dataframe tbody tr th:only-of-type {\n",
       "        vertical-align: middle;\n",
       "    }\n",
       "\n",
       "    .dataframe tbody tr th {\n",
       "        vertical-align: top;\n",
       "    }\n",
       "\n",
       "    .dataframe thead th {\n",
       "        text-align: right;\n",
       "    }\n",
       "</style>\n",
       "<table border=\"1\" class=\"dataframe\">\n",
       "  <thead>\n",
       "    <tr style=\"text-align: right;\">\n",
       "      <th></th>\n",
       "      <th>m/z</th>\n",
       "      <th>Intensidad 1</th>\n",
       "      <th>Intensidad 2</th>\n",
       "      <th>Intensidad 3</th>\n",
       "    </tr>\n",
       "  </thead>\n",
       "  <tbody>\n",
       "    <tr>\n",
       "      <th>0</th>\n",
       "      <td>80.0</td>\n",
       "      <td>7.0</td>\n",
       "      <td>0.0</td>\n",
       "      <td>0.0</td>\n",
       "    </tr>\n",
       "    <tr>\n",
       "      <th>1</th>\n",
       "      <td>80.1</td>\n",
       "      <td>3.0</td>\n",
       "      <td>0.0</td>\n",
       "      <td>0.0</td>\n",
       "    </tr>\n",
       "    <tr>\n",
       "      <th>2</th>\n",
       "      <td>80.3</td>\n",
       "      <td>3.0</td>\n",
       "      <td>0.0</td>\n",
       "      <td>0.0</td>\n",
       "    </tr>\n",
       "    <tr>\n",
       "      <th>3</th>\n",
       "      <td>80.4</td>\n",
       "      <td>95.0</td>\n",
       "      <td>0.0</td>\n",
       "      <td>0.0</td>\n",
       "    </tr>\n",
       "    <tr>\n",
       "      <th>4</th>\n",
       "      <td>80.5</td>\n",
       "      <td>519.0</td>\n",
       "      <td>0.0</td>\n",
       "      <td>0.0</td>\n",
       "    </tr>\n",
       "    <tr>\n",
       "      <th>...</th>\n",
       "      <td>...</td>\n",
       "      <td>...</td>\n",
       "      <td>...</td>\n",
       "      <td>...</td>\n",
       "    </tr>\n",
       "    <tr>\n",
       "      <th>414203</th>\n",
       "      <td>NaN</td>\n",
       "      <td>NaN</td>\n",
       "      <td>906.0</td>\n",
       "      <td>0.0</td>\n",
       "    </tr>\n",
       "    <tr>\n",
       "      <th>414204</th>\n",
       "      <td>NaN</td>\n",
       "      <td>NaN</td>\n",
       "      <td>844.0</td>\n",
       "      <td>0.0</td>\n",
       "    </tr>\n",
       "    <tr>\n",
       "      <th>414205</th>\n",
       "      <td>NaN</td>\n",
       "      <td>NaN</td>\n",
       "      <td>1082.0</td>\n",
       "      <td>0.0</td>\n",
       "    </tr>\n",
       "    <tr>\n",
       "      <th>414206</th>\n",
       "      <td>NaN</td>\n",
       "      <td>NaN</td>\n",
       "      <td>1334.0</td>\n",
       "      <td>0.0</td>\n",
       "    </tr>\n",
       "    <tr>\n",
       "      <th>414207</th>\n",
       "      <td>NaN</td>\n",
       "      <td>NaN</td>\n",
       "      <td>1246.0</td>\n",
       "      <td>0.0</td>\n",
       "    </tr>\n",
       "  </tbody>\n",
       "</table>\n",
       "<p>414208 rows × 4 columns</p>\n",
       "</div>"
      ],
      "text/plain": [
       "         m/z  Intensidad 1  Intensidad 2  Intensidad 3\n",
       "0       80.0           7.0           0.0           0.0\n",
       "1       80.1           3.0           0.0           0.0\n",
       "2       80.3           3.0           0.0           0.0\n",
       "3       80.4          95.0           0.0           0.0\n",
       "4       80.5         519.0           0.0           0.0\n",
       "...      ...           ...           ...           ...\n",
       "414203   NaN           NaN         906.0           0.0\n",
       "414204   NaN           NaN         844.0           0.0\n",
       "414205   NaN           NaN        1082.0           0.0\n",
       "414206   NaN           NaN        1334.0           0.0\n",
       "414207   NaN           NaN        1246.0           0.0\n",
       "\n",
       "[414208 rows x 4 columns]"
      ]
     },
     "execution_count": 195,
     "metadata": {},
     "output_type": "execute_result"
    }
   ],
   "source": [
    "MST=pd.concat([MS,MS2[[\"Int\"]],MS3[[\"Int\"]]],axis=1)\n",
    "MST.set_axis(['m/z','Intensidad 1','Intensidad 2','Intensidad 3'],axis=1, inplace=True)#nombre a las columnas\n",
    "MST.head()\n",
    "MST"
   ]
  },
  {
   "cell_type": "code",
   "execution_count": 199,
   "id": "0fab538a-5f82-42c4-8b71-9c71be80fcc1",
   "metadata": {},
   "outputs": [],
   "source": [
    "MST.to_excel('./Datos/Archivo2.xlsx',sheet_name='MS')#asi pasamos de panda a excel"
   ]
  },
  {
   "cell_type": "code",
   "execution_count": 200,
   "id": "2185055b-c9fc-4746-9f22-10dddb0051ce",
   "metadata": {},
   "outputs": [
    {
     "data": {
      "image/png": "[encoded data removed]",
      "text/plain": [
       "<Figure size 648x432 with 1 Axes>"
      ]
     },
     "metadata": {
      "needs_background": "light"
     },
     "output_type": "display_data"
    }
   ],
   "source": [
    "fig, ax = plt.subplots(figsize=(9,6))\n",
    "from matplotlib.ticker import MultipleLocator, AutoMinorLocator\n",
    "plt.rcParams[\"font.family\"] = 'Times New Roman'\n",
    "plt.plot(MST[['m/z']], MST[['Intensidad 1']], label='MS1',  lw=1)\n",
    "plt.plot(MST[['m/z']], MST[['Intensidad 2']], label='MS2',  lw=1)\n",
    "plt.plot(MST[['m/z']], MST[['Intensidad 3']], label='MS3',  lw=1)\n",
    "ax.set_xlabel('m/z',  fontsize=16)\n",
    "ax.set_ylabel('Intensidad', fontsize=16)\n",
    "ax.legend(loc='best', fontsize=12)\n",
    "plt.show()"
   ]
  },
  {
   "cell_type": "markdown",
   "id": "18c0f5b5-0886-435d-99fc-bafa6c71a19a",
   "metadata": {},
   "source": [
    "<font color=purple size=5>**FIN** "
   ]
  }
 ],
 "metadata": {
  "kernelspec": {
   "display_name": "Python 3 (ipykernel)",
   "language": "python",
   "name": "python3"
  },
  "language_info": {
   "codemirror_mode": {
    "name": "ipython",
    "version": 3
   },
   "file_extension": ".py",
   "mimetype": "text/x-python",
   "name": "python",
   "nbconvert_exporter": "python",
   "pygments_lexer": "ipython3",
   "version": "3.9.7"
  }
 },
 "nbformat": 4,
 "nbformat_minor": 5
}
