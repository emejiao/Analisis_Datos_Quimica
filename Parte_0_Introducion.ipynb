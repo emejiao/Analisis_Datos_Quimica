{
 "cells": [
  {
   "cell_type": "markdown",
   "metadata": {},
   "source": [
    "<img src=\"logosimbolo1.gif\" width=\"180\" height=\"180\" align=\"left\"/>\n",
    "\n",
    "<img src=\"logo_leam.png\" width=\"160\" height=\"460\" align=\"right\"/>\n",
    "\n",
    "<font color='#006400' size=6 align='center'><p style='text-align: center;'>**Análisis y Tratamiento de Datos en Química**\\\n",
    "<font color=#8B2500 size=5><p style='text-align: center;'>**Enrique Mejía Ospino, emejia@uis.edu.co**\\\n",
    "<font color=#8B2500 size=5>         **Universidad Industrial de Santander**\n",
    "---"
   ]
  },
  {
   "cell_type": "markdown",
   "metadata": {},
   "source": [
    "<font color=navy size=6 align='center'><p style='text-align: center;'>         **INTRODUCCIÓN**\n",
    "    \n",
    "---"
   ]
  },
  {
   "cell_type": "markdown",
   "metadata": {},
   "source": [
    "<font color=#27408B size=6>**¿Qué es Python?**\n",
    "\n",
    "<font color=#00868B size=4><p style='text-align: justify;'>**Python es un lenguaje de programación dinámico de alto nivel y orientado a objetos que se ha utilizado ampliamente en la industria durante casi 30 años. Python es un lenguaje de propósito general, lo que significa que se puede utilizar de forma efectiva para construir cualquier cosa, desde simples aplicaciones web y de escritorio hasta potentes sistemas de gestión de datos e incluso complejas herramientas de aprendizaje automático e inteligencia artificial. Hoy en día, Python es el *segundo lenguaje de programación* (02-2022) más utilizado en el mundo, alabado por los ingenieros de desarrollo de software de todo el mundo por su versatilidad y la facilidad de uso. Pero más que cualquier otro lenguaje, la increíble flexibilidad y las características únicas de Python han demostrado su valor en en ciencias en los últimos años.**"
   ]
  },
  {
   "cell_type": "markdown",
   "metadata": {},
   "source": [
    "---"
   ]
  },
  {
   "cell_type": "markdown",
   "metadata": {},
   "source": [
    "<font color=#8B2252 size=6>**Ventajas de Python**\n",
    "\n",
    "<font color=teal size=4><p style='text-align: justify;'>**Estas son las principales razones por las que Python ha encabezado las listas de desarrollo de software frente a otros lenguajes de programación como Java y C++ en los últimos años:**"
   ]
  },
  {
   "cell_type": "markdown",
   "metadata": {},
   "source": [
    "**<font color=navy size=5>Mayor productividad**\n",
    "**<font bold color=MediumSeaGreen size=4><p style='text-align: justify;'>\n",
    "La sintaxis Python, los diseños orientados a objetos y la reutilización de códigos permiten a los desarrolladores de software escribir código más rápido y añadir funciones complejas de forma más eficiente que con otros lenguajes.**"
   ]
  },
  {
   "cell_type": "markdown",
   "metadata": {},
   "source": [
    "**<font color=navy size=5>Semántica dinámica**\n",
    "**<font bold color=MediumVioletRed size=4><p style='text-align: justify;'>\n",
    "Python es un lenguaje dinámico de diseño más cortos y un volumen de código reducido. Esto aporta más flexibilidad al desarrollo incremental y ahorra mucho tiempo a los proyectos de análisis de datos. Sólo se tiene que codificar, probar y desplegar en producción.**"
   ]
  },
  {
   "cell_type": "markdown",
   "metadata": {},
   "source": [
    "**<font color=navy size=5>Código abierto**\n",
    "**<font bold color=black size=4><p style='text-align: justify;'>\n",
    "Python puede utilizarse y distribuirse libremente incluso con fines comerciales. Esto también permite que exista una gran y activa comunidad de colaboradores que comparten conocimientos y proporcionan soluciones que pueden ayudar al desarrollo de su proyecto.**"
   ]
  },
  {
   "cell_type": "markdown",
   "metadata": {},
   "source": [
    "**<font color=navy size=5>Bibliotecas y Modulos disponibles**\n",
    "**<font bold color=cian size=4><p style='text-align: justify;'>\n",
    "Existe una gran cantidad de bibliotecas o Modulos de muy alta calidad y flexibilidad que permiten cubrir casi cualquier necesidad y por tanto elimina la necesidad de que los desarrolladores de software estén constantemete reinventendo la rueda.**"
   ]
  },
  {
   "cell_type": "markdown",
   "metadata": {},
   "source": [
    "**<font color=navy size=5>Desarrollo dirigido por pruebas**\n",
    "**<font bold color=BlueViole size=4><p style='text-align: justify;'>\n",
    "La gran legibilidad del código y el marco de prueba de cada dessarrollo de Python lo hacen muy eficaz. Esto significa que los proyectos pueden minimizar el tiempo dedicado a corregir errores y reducir en gran medida el costo de mantenimiento del desarrollo.**"
   ]
  },
  {
   "cell_type": "markdown",
   "metadata": {},
   "source": [
    "**<font color=navy size=5>Inter-Operabilidad**\n",
    "**<font bold color=RosyBrown size=4><p style='text-align: justify;'>\n",
    "Con la ayuda de ciertos Modulos, Python ofrece una gran inter-operabilidad con otros lenguajes de programación y tecnologías, lo que permite una perfecta integración de las soluciones basadas en Python con prácticamente cualquier plataforma.**"
   ]
  },
  {
   "cell_type": "markdown",
   "metadata": {},
   "source": [
    "**<font color=navy size=5>Versatilidad**\n",
    "**<font bold color=cian size=4><p style='text-align: justify;'>\n",
    "Python es de uso general, lo que permite que reduzca la complejidad general del proyecto y los recursos invertidos en su desarrollo al utilizar un único lenguaje para cubrir todos los objetivos.**"
   ]
  },
  {
   "cell_type": "markdown",
   "metadata": {},
   "source": [
    "----"
   ]
  },
  {
   "cell_type": "markdown",
   "metadata": {},
   "source": [
    "**<font color=olive size=5 >Instalación**\n",
    "\n",
    "* <font bold color=navy size=4><p style='font-style: italic'> **En Windows o mac: recomendación [Anaconda](https://www.anaconda.com/products/individual). Instalá la versión basada en Python 3 que corresponda a tu Sistema Operativo**\n",
    "    \n",
    "* <font bold color=navy size=4><p style='font-style: italic'> **En linux puedes instalar directamente todo lo necesario desde tus repositorios. Por ejemplo en Ubuntu: `sudo apt-get install anaconda`.**\n",
    "\n",
    "**<font color=maroon size=5 >¿Cómo se usa Python?**\n",
    "\n",
    "* <font bold color=navy size=4><p style='font-style: italic'> **Consolas interactivas**\n",
    "\n",
    "<font bold color=blue size=4><p style='text-align: justify; font-style: italic'>**Hay varias maneras de usar el lenguaje Python. Si ejecutamos la consola (En windows `cmd.exe`) y luego `python`(debe estar instalado), se abrirá la consola interactiva en la que podemos escribir sentencias o pequeños bloques de código que son ejecutados inmediatamente. Pero *la consola interactiva* estándar es **limitada**.**\n",
    "\n",
    "<img src=\"./Imagenes/consola.png\" width=\"680\" height=\"680\" align=\"center\"/>\n",
    "\n",
    "<font bold color=blue size=4><p style='text-align: justify; font-style: italic'>**La consola IPython supera a la estándar en muchos sentidos. Podemos autocompletar (`<TAB>`), ver ayuda rápida de cualquier objeto (`?`) y muchas cosas más.**\n",
    "\n",
    "<img src=\"./Imagenes/consola2.png\" width=\"680\" height=\"680\" align=\"center\"/>\n"
   ]
  },
  {
   "cell_type": "markdown",
   "metadata": {},
   "source": [
    "**<font bold color=black size=4><p style='text-align: justify;'>\n",
    "Existe un gran numero de plataformas para leer y desarrollar codigos en python, entre ellos cinco destacados (en mi opinión) son:**\n",
    "\n",
    "* <font bold color=navy size=4><p style='font-style: italic'> **[PyCharm](https://www.jetbrains.com/pycharm/)**\n",
    "* <font bold color=navy size=4><p style='font-style: italic'> **[KDevelop](https://www.kdevelop.org/)**\n",
    "* <font bold color=navy size=4><p style='font-style: italic'> **[Spyder](https://www.spyder-ide.org/)**\n",
    "* <font bold color=navy size=4><p style='font-style: italic'> **[Visual Studio](https://visualstudio.microsoft.com/vs/)**\n",
    "* <font bold color=navy size=4><p style='font-style: italic'> **[PyDev](https://www.pydev.org/index.html)**   "
   ]
  },
  {
   "cell_type": "markdown",
   "metadata": {},
   "source": [
    "**<font bold color=navy size=4><p style='text-align: justify;'>Sin embargo, las plataformas que mas están siendo utilizadas hoy día, son las denominadas Jupyter (Jupyter Notebook, Jupyter Hub y Jupyter Lab).  Ambas han sido desarrolladas dentro del Proyecto Jupyter.**\n",
    "**<font bold color=Brown size=4><p style='text-align: justify;'>El Proyecto Jupyter es (*Wikipedia*); \"una organización sin ánimo de lucro creada para \"desarrollar software de código abierto, estándares abiertos y servicios para computación interactiva en docenas de lenguajes de programación\". Creado a partir de IPython en 2014 por Fernando Pérez (Colombiano!), el proyecto Jupyter soporta entornos de ejecución en varias docenas de lenguajes de programación. El nombre del proyecto Jupyter es una referencia a los tres lenguajes de programación principales soportados por Jupyter, que son Julia, Python y R, y también un homenaje a los cuadernos de Galileo que registran el descubrimiento de los satélites de Júpiter. El proyecto Jupyter ha desarrollado y respaldado los productos de computación interactiva Jupyter Notebook, JupyterHub y JupyterLab, la versión de próxima generación de Jupyter Notebook\".**"
   ]
  },
  {
   "cell_type": "markdown",
   "metadata": {},
   "source": [
    "---"
   ]
  },
  {
   "cell_type": "markdown",
   "metadata": {},
   "source": [
    "**<font bold color=DarkOrange size=4><p style='text-align: justify;'>\n",
    "Todas las Plataformas del Proyecto Jupyter se encuentran en un sitio denominado [ANACONDA](https://www.anaconda.com/products/individual). Anaconda es una Suite de código abierto que abarca una serie de aplicaciones, librerías y conceptos diseñados para el desarrollo de la Ciencia de datos con Python. En líneas generales Anaconda Distribution es una distribucción de Python que funciona como un gestor de entorno, un gestor de paquetes y que posee una colección de más de 720 paquetes de código abierto.**\n",
    "    \n",
    "<img src=\"./Imagenes/anaconda.png\" width=\"880\" height=\"880\" align=\"center\"/>"
   ]
  },
  {
   "cell_type": "code",
   "execution_count": null,
   "metadata": {},
   "outputs": [],
   "source": []
  }
 ],
 "metadata": {
  "kernelspec": {
   "display_name": "Python 3",
   "language": "python",
   "name": "python3"
  },
  "language_info": {
   "codemirror_mode": {
    "name": "ipython",
    "version": 3
   },
   "file_extension": ".py",
   "mimetype": "text/x-python",
   "name": "python",
   "nbconvert_exporter": "python",
   "pygments_lexer": "ipython3",
   "version": "3.8.5"
  }
 },
 "nbformat": 4,
 "nbformat_minor": 4
}
